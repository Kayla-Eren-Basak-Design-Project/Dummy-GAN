{
  "nbformat": 4,
  "nbformat_minor": 0,
  "metadata": {
    "colab": {
      "provenance": [],
      "collapsed_sections": [],
      "authorship_tag": "ABX9TyNR8Fy0TxoM6lW7kRwhe8Y+",
      "include_colab_link": true
    },
    "kernelspec": {
      "name": "python3",
      "display_name": "Python 3"
    },
    "language_info": {
      "name": "python"
    }
  },
  "cells": [
    {
      "cell_type": "markdown",
      "metadata": {
        "id": "view-in-github",
        "colab_type": "text"
      },
      "source": [
        "<a href=\"https://colab.research.google.com/github/Kayla-Eren-Basak-Design-Project/Dummy-GAN/blob/Basak/Untitled2.ipynb\" target=\"_parent\"><img src=\"https://colab.research.google.com/assets/colab-badge.svg\" alt=\"Open In Colab\"/></a>"
      ]
    },
    {
      "cell_type": "code",
      "execution_count": 2,
      "metadata": {
        "id": "bYvfPDvrEGbw"
      },
      "outputs": [],
      "source": [
        "import matplotlib.pyplot as plt\n",
        "import tensorflow as tf\n",
        "from tensorflow.keras import layers\n",
        "import numpy as np\n",
        "import time\n",
        "import json\n",
        "\n",
        "from IPython import display"
      ]
    },
    {
      "cell_type": "code",
      "source": [
        "BATCH_SIZE = 32\n",
        "MAP_SIZE = 32\n",
        "LR_D = LR_G = 0.00005"
      ],
      "metadata": {
        "id": "XZD0pMrvEJln"
      },
      "execution_count": 3,
      "outputs": []
    },
    {
      "cell_type": "code",
      "source": [
        "N = 5\n",
        "\n",
        "def generate_rect(x, y, w, h):\n",
        "  data = np.zeros((N,N))\n",
        "  data[x:x+w+1, y:y+h+1] = 1\n",
        "  data[x+1:x+w, y+1:y+h] = 0\n",
        "  #data = np.reshape(data, (N*N))\n",
        "  return data\n",
        "\n",
        "train_images = []\n",
        "\n",
        "for x in range(0, N-2):\n",
        "  for y in range(0, N-2):\n",
        "    for w in range(2,N):\n",
        "      for h in range(2,N):\n",
        "        if x+w<N and y+h<N:\n",
        "          train_images.append(generate_rect(x,y,w,h))\n",
        "train_images = np.array(train_images).astype('int32')\n",
        "#arr = arr[np.random.choice(123201, 60000, replace=False)]\n",
        "\n",
        "print(np.shape(train_images))"
      ],
      "metadata": {
        "colab": {
          "base_uri": "https://localhost:8080/"
        },
        "id": "OdlZFdPgEWZ8",
        "outputId": "9e522998-cb03-4355-d67e-ac9119b56653"
      },
      "execution_count": 12,
      "outputs": [
        {
          "output_type": "stream",
          "name": "stdout",
          "text": [
            "(36, 5, 5)\n"
          ]
        }
      ]
    },
    {
      "cell_type": "code",
      "source": [
        "plt.imshow(train_images[2])"
      ],
      "metadata": {
        "colab": {
          "base_uri": "https://localhost:8080/",
          "height": 283
        },
        "id": "OSlpmuZ6Eec9",
        "outputId": "22f4935e-9aa5-4bba-fec0-114f995c7c6f"
      },
      "execution_count": 13,
      "outputs": [
        {
          "output_type": "execute_result",
          "data": {
            "text/plain": [
              "<matplotlib.image.AxesImage at 0x7f0fe7e414d0>"
            ]
          },
          "metadata": {},
          "execution_count": 13
        },
        {
          "output_type": "display_data",
          "data": {
            "text/plain": [
              "<Figure size 432x288 with 1 Axes>"
            ],
            "image/png": "[encoded data removed]"
          },
          "metadata": {
            "needs_background": "light"
          }
        }
      ]
    },
    {
      "cell_type": "code",
      "source": [
        "train_size, x_dims, y_dims = train_images.shape\n",
        "z_dims = np.amax(train_images) + 1 # Number of different title types\n",
        "print(z_dims)\n",
        "train_images_onehot = np.eye(z_dims, dtype='uint8')[train_images]\n",
        "print(train_images_onehot.shape) # (train_size, x_dims, y_dims, z_dims)\n",
        "\n",
        "train_images = np.zeros((train_size, MAP_SIZE, MAP_SIZE, z_dims))\n",
        "print(train_images.shape)\n",
        "\n",
        "# TODO: Change empty space encoding here if different\n",
        "train_images[:, :, :, 1] = 0.0  # Fill with empty space \n",
        "\n",
        "train_images[:train_size, :x_dims, :y_dims, :] = train_images_onehot\n",
        "print(train_images.shape)"
      ],
      "metadata": {
        "colab": {
          "base_uri": "https://localhost:8080/"
        },
        "id": "MEH0mktqE27L",
        "outputId": "bc081036-67f5-4ccb-a527-dc5873c72d9a"
      },
      "execution_count": 14,
      "outputs": [
        {
          "output_type": "stream",
          "name": "stdout",
          "text": [
            "2\n",
            "(36, 5, 5, 2)\n",
            "(36, 32, 32, 2)\n",
            "(36, 32, 32, 2)\n"
          ]
        }
      ]
    },
    {
      "cell_type": "code",
      "source": [
        "plt.imshow(np.argmax(train_images[2], axis=2))"
      ],
      "metadata": {
        "colab": {
          "base_uri": "https://localhost:8080/",
          "height": 284
        },
        "id": "BCYDXUOXDW5u",
        "outputId": "43e5f57b-a742-45ec-935c-9544744db804"
      },
      "execution_count": 15,
      "outputs": [
        {
          "output_type": "execute_result",
          "data": {
            "text/plain": [
              "<matplotlib.image.AxesImage at 0x7f0fe7dbfc10>"
            ]
          },
          "metadata": {},
          "execution_count": 15
        },
        {
          "output_type": "display_data",
          "data": {
            "text/plain": [
              "<Figure size 432x288 with 1 Axes>"
            ],
            "image/png": "[encoded data removed]"
          },
          "metadata": {
            "needs_background": "light"
          }
        }
      ]
    },
    {
      "cell_type": "code",
      "source": [
        "train_dataset = tf.data.Dataset.from_tensor_slices(train_images).shuffle(train_size).batch(BATCH_SIZE)"
      ],
      "metadata": {
        "id": "oGiX48GNDhBz"
      },
      "execution_count": 16,
      "outputs": []
    },
    {
      "cell_type": "code",
      "source": [
        "def make_discriminator_model(n_extra_layers=0):\n",
        "  assert MAP_SIZE % 16 == 0\n",
        "\n",
        "  model = tf.keras.Sequential()\n",
        "  model.add(layers.Conv2D(64, (4, 4), strides=(2, 2), padding='same', use_bias=False, input_shape=(MAP_SIZE, MAP_SIZE, z_dims)))\n",
        "  model.add(layers.LeakyReLU(alpha=0.2))\n",
        "\n",
        "  image_size, n_filters = MAP_SIZE / 2, 64\n",
        "\n",
        "  # Extra layers\n",
        "  for i in range(n_extra_layers):\n",
        "    model.add(layers.Conv2D(n_filters, (3, 3), strides=(1, 1), padding='same', use_bias=False))\n",
        "    model.add(layers.BatchNormalization())\n",
        "    model.add(layers.LeakyReLU(alpha=0.2))\n",
        "\n",
        "  while image_size > 4:\n",
        "    n_filters *= 2\n",
        "    model.add(layers.Conv2D(n_filters, (4, 4), strides=(2, 2), padding='same', use_bias=False))\n",
        "    model.add(layers.BatchNormalization())\n",
        "    model.add(layers.LeakyReLU(alpha=0.2))\n",
        "    image_size /= 2\n",
        "\n",
        "  # Input here is (BATCH_SIZE x 4 x 4 x n_filters)\n",
        "  model.add(layers.Conv2D(1, (4, 4), strides=(1, 1), padding='valid', use_bias=False))\n",
        "    \n",
        "  return model"
      ],
      "metadata": {
        "id": "WVU09kuKDr-M"
      },
      "execution_count": 17,
      "outputs": []
    },
    {
      "cell_type": "code",
      "source": [
        "def make_generator_model(n_extra_layers=0):\n",
        "  assert MAP_SIZE % 16 == 0\n",
        "\n",
        "  noise_size = 32\n",
        "  # 32 here is the 1/2 * n_channels before last Conv2DTranspose\n",
        "  n_filters = 32 * MAP_SIZE / 4\n",
        "\n",
        "  model = tf.keras.Sequential()\n",
        "  model.add(tf.keras.Input(shape=(noise_size, )))\n",
        "  model.add(layers.Reshape((1, 1, noise_size)))\n",
        "  \n",
        "  model.add(layers.Conv2DTranspose(n_filters, (4, 4), strides=(1, 1), padding='valid', use_bias=False))\n",
        "  model.add(layers.BatchNormalization())\n",
        "  model.add(layers.ReLU())\n",
        "\n",
        "  image_size = 4\n",
        "  while image_size < MAP_SIZE / 2:\n",
        "    n_filters /= 2\n",
        "    model.add(layers.Conv2DTranspose(n_filters, (4, 4), strides=(2, 2), padding='same', use_bias=False))\n",
        "    model.add(layers.BatchNormalization())\n",
        "    model.add(layers.ReLU())\n",
        "    image_size *= 2\n",
        "\n",
        "  # Extra layers\n",
        "  for i in range(n_extra_layers):\n",
        "    model.add(layers.Conv2DTranspose(n_filters, (3, 3), strides=(1, 1), padding='same', use_bias=False))\n",
        "    model.add(layers.BatchNormalization())\n",
        "    model.add(layers.ReLU())\n",
        "\n",
        "  model.add(layers.Conv2DTranspose(z_dims, (4, 4), strides=(2, 2), padding='same', use_bias=False))\n",
        "  model.add(layers.ReLU())\n",
        "\n",
        "  return model"
      ],
      "metadata": {
        "id": "Vwdu1fscDtLJ"
      },
      "execution_count": 18,
      "outputs": []
    },
    {
      "cell_type": "code",
      "source": [
        "discriminator = make_discriminator_model()\n",
        "generator = make_generator_model()"
      ],
      "metadata": {
        "id": "hruWGrDdDxVU"
      },
      "execution_count": 19,
      "outputs": []
    },
    {
      "cell_type": "code",
      "source": [
        "print(discriminator.summary())\n",
        "print(generator.summary())"
      ],
      "metadata": {
        "colab": {
          "base_uri": "https://localhost:8080/"
        },
        "id": "07jKDL-WDzxd",
        "outputId": "29ae82a7-2811-457b-9a53-74f5a4f3bbe8"
      },
      "execution_count": 20,
      "outputs": [
        {
          "output_type": "stream",
          "name": "stdout",
          "text": [
            "Model: \"sequential\"\n",
            "_________________________________________________________________\n",
            " Layer (type)                Output Shape              Param #   \n",
            "=================================================================\n",
            " conv2d (Conv2D)             (None, 16, 16, 64)        2048      \n",
            "                                                                 \n",
            " leaky_re_lu (LeakyReLU)     (None, 16, 16, 64)        0         \n",
            "                                                                 \n",
            " conv2d_1 (Conv2D)           (None, 8, 8, 128)         131072    \n",
            "                                                                 \n",
            " batch_normalization (BatchN  (None, 8, 8, 128)        512       \n",
            " ormalization)                                                   \n",
            "                                                                 \n",
            " leaky_re_lu_1 (LeakyReLU)   (None, 8, 8, 128)         0         \n",
            "                                                                 \n",
            " conv2d_2 (Conv2D)           (None, 4, 4, 256)         524288    \n",
            "                                                                 \n",
            " batch_normalization_1 (Batc  (None, 4, 4, 256)        1024      \n",
            " hNormalization)                                                 \n",
            "                                                                 \n",
            " leaky_re_lu_2 (LeakyReLU)   (None, 4, 4, 256)         0         \n",
            "                                                                 \n",
            " conv2d_3 (Conv2D)           (None, 1, 1, 1)           4096      \n",
            "                                                                 \n",
            "=================================================================\n",
            "Total params: 663,040\n",
            "Trainable params: 662,272\n",
            "Non-trainable params: 768\n",
            "_________________________________________________________________\n",
            "None\n",
            "Model: \"sequential_1\"\n",
            "_________________________________________________________________\n",
            " Layer (type)                Output Shape              Param #   \n",
            "=================================================================\n",
            " reshape (Reshape)           (None, 1, 1, 32)          0         \n",
            "                                                                 \n",
            " conv2d_transpose (Conv2DTra  (None, 4, 4, 256)        131072    \n",
            " nspose)                                                         \n",
            "                                                                 \n",
            " batch_normalization_2 (Batc  (None, 4, 4, 256)        1024      \n",
            " hNormalization)                                                 \n",
            "                                                                 \n",
            " re_lu (ReLU)                (None, 4, 4, 256)         0         \n",
            "                                                                 \n",
            " conv2d_transpose_1 (Conv2DT  (None, 8, 8, 128)        524288    \n",
            " ranspose)                                                       \n",
            "                                                                 \n",
            " batch_normalization_3 (Batc  (None, 8, 8, 128)        512       \n",
            " hNormalization)                                                 \n",
            "                                                                 \n",
            " re_lu_1 (ReLU)              (None, 8, 8, 128)         0         \n",
            "                                                                 \n",
            " conv2d_transpose_2 (Conv2DT  (None, 16, 16, 64)       131072    \n",
            " ranspose)                                                       \n",
            "                                                                 \n",
            " batch_normalization_4 (Batc  (None, 16, 16, 64)       256       \n",
            " hNormalization)                                                 \n",
            "                                                                 \n",
            " re_lu_2 (ReLU)              (None, 16, 16, 64)        0         \n",
            "                                                                 \n",
            " conv2d_transpose_3 (Conv2DT  (None, 32, 32, 2)        2048      \n",
            " ranspose)                                                       \n",
            "                                                                 \n",
            " re_lu_3 (ReLU)              (None, 32, 32, 2)         0         \n",
            "                                                                 \n",
            "=================================================================\n",
            "Total params: 790,272\n",
            "Trainable params: 789,376\n",
            "Non-trainable params: 896\n",
            "_________________________________________________________________\n",
            "None\n"
          ]
        }
      ]
    },
    {
      "cell_type": "code",
      "source": [
        "print(generator(np.random.rand(1, 32)).shape)\n",
        "print(discriminator(np.random.rand(1, MAP_SIZE, MAP_SIZE, z_dims)).shape)"
      ],
      "metadata": {
        "colab": {
          "base_uri": "https://localhost:8080/"
        },
        "id": "uo8pT99QD1_Z",
        "outputId": "b4c071a3-a3ad-440a-af5d-a2d3d873e881"
      },
      "execution_count": 21,
      "outputs": [
        {
          "output_type": "stream",
          "name": "stdout",
          "text": [
            "(1, 32, 32, 2)\n",
            "(1, 1, 1, 1)\n"
          ]
        }
      ]
    },
    {
      "cell_type": "code",
      "source": [
        "def get_discriminator_loss(real_output, generated_output):\n",
        "  real_loss = tf.reduce_mean(real_output)\n",
        "  generated_loss = tf.reduce_mean(generated_output)\n",
        "  total_loss = real_loss - generated_loss\n",
        "\n",
        "  return total_loss\n",
        "\n",
        "\n",
        "def get_generator_loss(generated_output):\n",
        "  return -tf.reduce_mean(generated_output)"
      ],
      "metadata": {
        "id": "8NBYxSMgD4sh"
      },
      "execution_count": 26,
      "outputs": []
    },
    {
      "cell_type": "code",
      "source": [
        "discriminator_optimizer = tf.optimizers.RMSprop(LR_D)\n",
        "generator_optimizer = tf.optimizers.RMSprop(LR_G)"
      ],
      "metadata": {
        "id": "FurIZh-MELK5"
      },
      "execution_count": 27,
      "outputs": []
    },
    {
      "cell_type": "code",
      "source": [
        "def generate_and_save_images(model, epoch, test_input, savefig=False):\n",
        "  predictions = model(test_input, training=False)\n",
        "\n",
        "  fig = plt.figure(figsize=(10, 10))\n",
        "\n",
        "  for i in range(predictions.shape[0]):\n",
        "    plt.subplot(4, 4, i+1)\n",
        "    plt.imshow(np.argmax(predictions[i], axis=2))\n",
        "    plt.axis('off')\n",
        "\n",
        "  if savefig:\n",
        "    plt.savefig('image_at_epoch_{:04d}.png'.format(epoch))\n",
        "  plt.show()"
      ],
      "metadata": {
        "id": "np1ORVS3D9xJ"
      },
      "execution_count": 28,
      "outputs": []
    },
    {
      "cell_type": "code",
      "source": [
        "EPOCHS = 5000\n",
        "noise_size = 32\n",
        "num_examples = 8\n",
        "\n",
        "# Use same random vector to see evolution of generated images over time\n",
        "random_vector_for_generation = tf.random.normal([num_examples, noise_size])"
      ],
      "metadata": {
        "id": "dQWKMIQqD_v8"
      },
      "execution_count": 31,
      "outputs": []
    },
    {
      "cell_type": "code",
      "source": [
        "def train_step(images, update_generator=False):\n",
        "  # Generating noise from a normal distribution\n",
        "  noise = tf.random.normal([BATCH_SIZE, noise_size])\n",
        "\n",
        "  for w in discriminator.trainable_variables:\n",
        "    w.assign(tf.clip_by_value(w, -0.01, 0.01))\n",
        "    \n",
        "  with tf.GradientTape() as gen_tape, tf.GradientTape() as disc_tape:\n",
        "    generated_images = generator(noise, training=True)\n",
        "    real_output = discriminator(images, training=True)\n",
        "    generated_output = discriminator(generated_images, training=True)\n",
        "\n",
        "    gen_loss = get_generator_loss(generated_output)\n",
        "    disc_loss = get_discriminator_loss(real_output, generated_output)\n",
        "        \n",
        "    gradients_of_discriminator = disc_tape.gradient(-disc_loss, discriminator.trainable_variables)\n",
        "    discriminator_optimizer.apply_gradients(zip(gradients_of_discriminator, discriminator.trainable_variables))\n",
        "    if update_generator:\n",
        "      gradients_of_generator = gen_tape.gradient(gen_loss, generator.trainable_variables)\n",
        "      generator_optimizer.apply_gradients(zip(gradients_of_generator, generator.trainable_variables))\n",
        "\n",
        "  return gen_loss, disc_loss"
      ],
      "metadata": {
        "id": "4huaL8CoEAdK"
      },
      "execution_count": 32,
      "outputs": []
    },
    {
      "cell_type": "code",
      "source": [
        "len(train_dataset)"
      ],
      "metadata": {
        "colab": {
          "base_uri": "https://localhost:8080/"
        },
        "id": "HzIiThjJEQiC",
        "outputId": "3a1de6e2-ce1d-4610-ea6a-2cacde8d294c"
      },
      "execution_count": 33,
      "outputs": [
        {
          "output_type": "execute_result",
          "data": {
            "text/plain": [
              "2"
            ]
          },
          "metadata": {},
          "execution_count": 33
        }
      ]
    },
    {
      "cell_type": "code",
      "source": [
        "def train(dataset, epochs):\n",
        "  gen_iterations = 0\n",
        "  for epoch in range(epochs):\n",
        "    start = time.time()\n",
        "    disc_iterations = 0\n",
        "    for i, images in enumerate(dataset):\n",
        "      if disc_iterations == 0:\n",
        "        if gen_iterations < 25 or gen_iterations % 500 == 0:\n",
        "          disc_iterations = 100\n",
        "        else:\n",
        "          disc_iterations = 5\n",
        "      if disc_iterations == 1 or i == len(dataset) - 1:\n",
        "        gen_loss, disc_loss = train_step(images, True)\n",
        "        gen_iterations += 1\n",
        "      else:\n",
        "        gen_loss, disc_loss = train_step(images)\n",
        "      disc_iterations -= 1\n",
        "\n",
        "    display.clear_output(wait=True)\n",
        "    # Save generator every 500 epochs\n",
        "    if (epoch + 1) % 500 == 0:\n",
        "      generate_and_save_images(generator, epoch + 1, \n",
        "                               random_vector_for_generation, True)\n",
        "      generator.save('models/generator_baseline_' + str(epoch + 1))\n",
        "    else:\n",
        "      generate_and_save_images(generator, epoch + 1, \n",
        "                               random_vector_for_generation)\n",
        "\n",
        "    print ('Time taken for epoch {} is {} sec'.format(epoch + 1, \n",
        "                                                      time.time() - start))\n",
        "    print(\"Generator Loss: \", gen_loss)\n",
        "    print(\"Discriminator Loss: \", disc_loss)\n",
        "  # Generate after the final epoch\n",
        "  display.clear_output(wait=True)\n",
        "  generate_and_save_images(generator,\n",
        "                          epochs,\n",
        "                          random_vector_for_generation)"
      ],
      "metadata": {
        "id": "PbIJKacCEdSa"
      },
      "execution_count": 34,
      "outputs": []
    },
    {
      "cell_type": "code",
      "source": [
        "train(train_dataset, EPOCHS)"
      ],
      "metadata": {
        "colab": {
          "base_uri": "https://localhost:8080/",
          "height": 346
        },
        "id": "KLay2pvNEixa",
        "outputId": "3b6eba8f-be4a-4ab0-fee9-fb31dc2aff78"
      },
      "execution_count": null,
      "outputs": [
        {
          "output_type": "display_data",
          "data": {
            "text/plain": [
              "<Figure size 720x720 with 8 Axes>"
            ],
            "image/png": "[encoded data removed]"
          },
          "metadata": {
            "needs_background": "light"
          }
        },
        {
          "output_type": "stream",
          "name": "stdout",
          "text": [
            "Time taken for epoch 4921 is 1.3085994720458984 sec\n",
            "Generator Loss:  tf.Tensor(-0.09746687, shape=(), dtype=float32)\n",
            "Discriminator Loss:  tf.Tensor(0.0004978627, shape=(), dtype=float32)\n"
          ]
        }
      ]
    }
  ]
}