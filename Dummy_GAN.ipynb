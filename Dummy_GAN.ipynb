{
 "cells": [
  {
   "cell_type": "code",
   "execution_count": 1,
   "id": "15fef83a",
   "metadata": {},
   "outputs": [],
   "source": [
    "import matplotlib.pyplot as plt\n",
    "import tensorflow as tf\n",
    "from tensorflow.keras import layers\n",
    "import numpy as np\n",
    "import time\n",
    "import json\n",
    "\n",
    "from IPython import display"
   ]
  },
  {
   "cell_type": "code",
   "execution_count": 2,
   "id": "8aeb5075",
   "metadata": {},
   "outputs": [],
   "source": [
    "BATCH_SIZE = 32\n",
    "MAP_SIZE = 32\n",
    "LR_D = LR_G = 0.00005"
   ]
  },
  {
   "cell_type": "code",
   "execution_count": 3,
   "id": "c09eca31",
   "metadata": {},
   "outputs": [
    {
     "name": "stdout",
     "output_type": "stream",
     "text": [
      "(1000, 32, 32)\n"
     ]
    }
   ],
   "source": [
    "N = 32\n",
    "\n",
    "def generate_rect(x, y, w, h):\n",
    "  data = np.zeros((N,N))\n",
    "  data[x:x+w+1, y:y+h+1] = 1\n",
    "  data[x+1:x+w, y+1:y+h] = 0\n",
    "  #data = np.reshape(data, (N*N))\n",
    "  return data\n",
    "\n",
    "train_images = []\n",
    "\n",
    "for x in range(0, N-2):\n",
    "  for y in range(0, N-2):\n",
    "    for w in range(2,N):\n",
    "      for h in range(2,N):\n",
    "        if x+w<N and y+h<N:\n",
    "          train_images.append(generate_rect(x,y,w,h))\n",
    "train_images = np.array(train_images).astype('int32')\n",
    "train_images = train_images[np.random.choice(np.shape(train_images)[0], 1000, replace=False)]\n",
    "\n",
    "print(np.shape(train_images))"
   ]
  },
  {
   "cell_type": "code",
   "execution_count": 4,
   "id": "b73245b0",
   "metadata": {},
   "outputs": [
    {
     "data": {
      "text/plain": [
       "<matplotlib.image.AxesImage at 0x2d9d0a79d80>"
      ]
     },
     "execution_count": 4,
     "metadata": {},
     "output_type": "execute_result"
    },
    {
     "data": {
      "image/png": "[encoded data removed]",
      "text/plain": [
       "<Figure size 432x288 with 1 Axes>"
      ]
     },
     "metadata": {
      "needs_background": "light"
     },
     "output_type": "display_data"
    }
   ],
   "source": [
    "plt.imshow(train_images[2])"
   ]
  },
  {
   "cell_type": "code",
   "execution_count": 5,
   "id": "46488af2",
   "metadata": {},
   "outputs": [
    {
     "name": "stdout",
     "output_type": "stream",
     "text": [
      "2\n",
      "(1000, 32, 32, 2)\n",
      "(1000, 32, 32, 2)\n",
      "(1000, 32, 32, 2)\n"
     ]
    }
   ],
   "source": [
    "train_size, x_dims, y_dims = train_images.shape\n",
    "z_dims = np.amax(train_images) + 1 # Number of different title types\n",
    "print(z_dims)\n",
    "train_images_onehot = np.eye(z_dims, dtype='uint8')[train_images]\n",
    "print(train_images_onehot.shape) # (train_size, x_dims, y_dims, z_dims)\n",
    "\n",
    "train_images = np.zeros((train_size, MAP_SIZE, MAP_SIZE, z_dims))\n",
    "print(train_images.shape)\n",
    "\n",
    "# TODO: Change empty space encoding here if different\n",
    "train_images[:, :, :, 1] = 0.0  # Fill with empty space \n",
    "\n",
    "train_images[:train_size, :x_dims, :y_dims, :] = train_images_onehot\n",
    "print(train_images.shape)"
   ]
  },
  {
   "cell_type": "code",
   "execution_count": 6,
   "id": "a86c5543",
   "metadata": {},
   "outputs": [
    {
     "data": {
      "text/plain": [
       "<matplotlib.image.AxesImage at 0x2da2e109120>"
      ]
     },
     "execution_count": 6,
     "metadata": {},
     "output_type": "execute_result"
    },
    {
     "data": {
      "image/png": "[encoded data removed]",
      "text/plain": [
       "<Figure size 432x288 with 1 Axes>"
      ]
     },
     "metadata": {
      "needs_background": "light"
     },
     "output_type": "display_data"
    }
   ],
   "source": [
    "plt.imshow(np.argmax(train_images[2], axis=2))"
   ]
  },
  {
   "cell_type": "code",
   "execution_count": 7,
   "id": "eeba46c9",
   "metadata": {},
   "outputs": [],
   "source": [
    "train_dataset = tf.data.Dataset.from_tensor_slices(train_images).shuffle(train_images.shape[0]).batch(BATCH_SIZE)"
   ]
  },
  {
   "cell_type": "code",
   "execution_count": 8,
   "id": "81c346ec",
   "metadata": {},
   "outputs": [],
   "source": [
    "def make_discriminator_model(n_extra_layers=0):\n",
    "  assert MAP_SIZE % 16 == 0\n",
    "\n",
    "  model = tf.keras.Sequential()\n",
    "  model.add(layers.Conv2D(64, (4, 4), strides=(2, 2), padding='same', use_bias=False, input_shape=(MAP_SIZE, MAP_SIZE, z_dims)))\n",
    "  model.add(layers.LeakyReLU(alpha=0.2))\n",
    "\n",
    "  image_size, n_filters = MAP_SIZE / 2, 64\n",
    "\n",
    "  # Extra layers\n",
    "  for i in range(n_extra_layers):\n",
    "    model.add(layers.Conv2D(n_filters, (3, 3), strides=(1, 1), padding='same', use_bias=False))\n",
    "    model.add(layers.BatchNormalization())\n",
    "    model.add(layers.LeakyReLU(alpha=0.2))\n",
    "\n",
    "  while image_size > 4:\n",
    "    n_filters *= 2\n",
    "    model.add(layers.Conv2D(n_filters, (4, 4), strides=(2, 2), padding='same', use_bias=False))\n",
    "    model.add(layers.BatchNormalization())\n",
    "    model.add(layers.LeakyReLU(alpha=0.2))\n",
    "    image_size /= 2\n",
    "\n",
    "  # Input here is (BATCH_SIZE x 4 x 4 x n_filters)\n",
    "  model.add(layers.Conv2D(1, (4, 4), strides=(1, 1), padding='valid', use_bias=False))\n",
    "    \n",
    "  return model"
   ]
  },
  {
   "cell_type": "code",
   "execution_count": 9,
   "id": "82a32547",
   "metadata": {},
   "outputs": [],
   "source": [
    "def make_generator_model(n_extra_layers=0):\n",
    "  assert MAP_SIZE % 16 == 0\n",
    "\n",
    "  noise_size = 128\n",
    "  # 32 here is the 1/2 * n_channels before last Conv2DTranspose\n",
    "  n_filters = 32 * MAP_SIZE / 4\n",
    "\n",
    "  model = tf.keras.Sequential()\n",
    "  model.add(tf.keras.Input(shape=(noise_size, )))\n",
    "  model.add(layers.Reshape((1, 1, noise_size)))\n",
    "  \n",
    "  model.add(layers.Conv2DTranspose(n_filters, (4, 4), strides=(1, 1), padding='valid', use_bias=False))\n",
    "  model.add(layers.BatchNormalization())\n",
    "  model.add(layers.ReLU())\n",
    "\n",
    "  image_size = 4\n",
    "  while image_size < MAP_SIZE / 2:\n",
    "    n_filters /= 2\n",
    "    model.add(layers.Conv2DTranspose(n_filters, (4, 4), strides=(2, 2), padding='same', use_bias=False))\n",
    "    model.add(layers.BatchNormalization())\n",
    "    model.add(layers.ReLU())\n",
    "    image_size *= 2\n",
    "\n",
    "  # Extra layers\n",
    "  for i in range(n_extra_layers):\n",
    "    model.add(layers.Conv2DTranspose(n_filters, (3, 3), strides=(1, 1), padding='same', use_bias=False))\n",
    "    model.add(layers.BatchNormalization())\n",
    "    model.add(layers.ReLU())\n",
    "\n",
    "  model.add(layers.Conv2DTranspose(z_dims, (4, 4), strides=(2, 2), padding='same', use_bias=False))\n",
    "  model.add(layers.ReLU())\n",
    "\n",
    "  return model"
   ]
  },
  {
   "cell_type": "code",
   "execution_count": 10,
   "id": "3fc2df80",
   "metadata": {},
   "outputs": [],
   "source": [
    "discriminator = make_discriminator_model()\n",
    "generator = make_generator_model()"
   ]
  },
  {
   "cell_type": "code",
   "execution_count": 11,
   "id": "c002f889",
   "metadata": {
    "scrolled": true
   },
   "outputs": [
    {
     "name": "stdout",
     "output_type": "stream",
     "text": [
      "Model: \"sequential\"\n",
      "_________________________________________________________________\n",
      " Layer (type)                Output Shape              Param #   \n",
      "=================================================================\n",
      " conv2d (Conv2D)             (None, 16, 16, 64)        2048      \n",
      "                                                                 \n",
      " leaky_re_lu (LeakyReLU)     (None, 16, 16, 64)        0         \n",
      "                                                                 \n",
      " conv2d_1 (Conv2D)           (None, 8, 8, 128)         131072    \n",
      "                                                                 \n",
      " batch_normalization (BatchN  (None, 8, 8, 128)        512       \n",
      " ormalization)                                                   \n",
      "                                                                 \n",
      " leaky_re_lu_1 (LeakyReLU)   (None, 8, 8, 128)         0         \n",
      "                                                                 \n",
      " conv2d_2 (Conv2D)           (None, 4, 4, 256)         524288    \n",
      "                                                                 \n",
      " batch_normalization_1 (Batc  (None, 4, 4, 256)        1024      \n",
      " hNormalization)                                                 \n",
      "                                                                 \n",
      " leaky_re_lu_2 (LeakyReLU)   (None, 4, 4, 256)         0         \n",
      "                                                                 \n",
      " conv2d_3 (Conv2D)           (None, 1, 1, 1)           4096      \n",
      "                                                                 \n",
      "=================================================================\n",
      "Total params: 663,040\n",
      "Trainable params: 662,272\n",
      "Non-trainable params: 768\n",
      "_________________________________________________________________\n",
      "None\n",
      "Model: \"sequential_1\"\n",
      "_________________________________________________________________\n",
      " Layer (type)                Output Shape              Param #   \n",
      "=================================================================\n",
      " reshape (Reshape)           (None, 1, 1, 128)         0         \n",
      "                                                                 \n",
      " conv2d_transpose (Conv2DTra  (None, 4, 4, 256)        524288    \n",
      " nspose)                                                         \n",
      "                                                                 \n",
      " batch_normalization_2 (Batc  (None, 4, 4, 256)        1024      \n",
      " hNormalization)                                                 \n",
      "                                                                 \n",
      " re_lu (ReLU)                (None, 4, 4, 256)         0         \n",
      "                                                                 \n",
      " conv2d_transpose_1 (Conv2DT  (None, 8, 8, 128)        524288    \n",
      " ranspose)                                                       \n",
      "                                                                 \n",
      " batch_normalization_3 (Batc  (None, 8, 8, 128)        512       \n",
      " hNormalization)                                                 \n",
      "                                                                 \n",
      " re_lu_1 (ReLU)              (None, 8, 8, 128)         0         \n",
      "                                                                 \n",
      " conv2d_transpose_2 (Conv2DT  (None, 16, 16, 64)       131072    \n",
      " ranspose)                                                       \n",
      "                                                                 \n",
      " batch_normalization_4 (Batc  (None, 16, 16, 64)       256       \n",
      " hNormalization)                                                 \n",
      "                                                                 \n",
      " re_lu_2 (ReLU)              (None, 16, 16, 64)        0         \n",
      "                                                                 \n",
      " conv2d_transpose_3 (Conv2DT  (None, 32, 32, 2)        2048      \n",
      " ranspose)                                                       \n",
      "                                                                 \n",
      " re_lu_3 (ReLU)              (None, 32, 32, 2)         0         \n",
      "                                                                 \n",
      "=================================================================\n",
      "Total params: 1,183,488\n",
      "Trainable params: 1,182,592\n",
      "Non-trainable params: 896\n",
      "_________________________________________________________________\n",
      "None\n"
     ]
    }
   ],
   "source": [
    "print(discriminator.summary())\n",
    "print(generator.summary())"
   ]
  },
  {
   "cell_type": "code",
   "execution_count": 13,
   "id": "4e65f43e",
   "metadata": {},
   "outputs": [
    {
     "name": "stdout",
     "output_type": "stream",
     "text": [
      "(1, 32, 32, 2)\n",
      "(1, 1, 1, 1)\n"
     ]
    }
   ],
   "source": [
    "print(generator(np.random.rand(1, 128)).shape)\n",
    "print(discriminator(np.random.rand(1, MAP_SIZE, MAP_SIZE, z_dims)).shape)"
   ]
  },
  {
   "cell_type": "code",
   "execution_count": 14,
   "id": "a74a6c96",
   "metadata": {},
   "outputs": [],
   "source": [
    "def get_discriminator_loss(real_output, generated_output):\n",
    "  real_loss = tf.reduce_mean(real_output)\n",
    "  generated_loss = tf.reduce_mean(generated_output)\n",
    "  total_loss = real_loss - generated_loss\n",
    "\n",
    "  return total_loss\n",
    "\n",
    "\n",
    "def get_generator_loss(generated_output):\n",
    "  return -tf.reduce_mean(generated_output)"
   ]
  },
  {
   "cell_type": "code",
   "execution_count": 15,
   "id": "62374aca",
   "metadata": {},
   "outputs": [],
   "source": [
    "discriminator_optimizer = tf.optimizers.RMSprop(LR_D)\n",
    "generator_optimizer = tf.optimizers.RMSprop(LR_G)"
   ]
  },
  {
   "cell_type": "code",
   "execution_count": 16,
   "id": "dc2a3327",
   "metadata": {},
   "outputs": [],
   "source": [
    "def generate_and_save_images(model, epoch, test_input, savefig=False):\n",
    "  predictions = model(test_input, training=False)\n",
    "\n",
    "  fig = plt.figure(figsize=(10, 10))\n",
    "\n",
    "  for i in range(predictions.shape[0]):\n",
    "    plt.subplot(4, 4, i+1)\n",
    "    plt.imshow(np.argmax(predictions[i], axis=2))\n",
    "    plt.axis('off')\n",
    "\n",
    "  if savefig:\n",
    "    plt.savefig('image_at_epoch_{:04d}.png'.format(epoch))\n",
    "  plt.show()"
   ]
  },
  {
   "cell_type": "code",
   "execution_count": 17,
   "id": "ae9c3dd8",
   "metadata": {},
   "outputs": [],
   "source": [
    "EPOCHS = 5000\n",
    "noise_size = 128\n",
    "num_examples = 8\n",
    "\n",
    "# Use same random vector to see evolution of generated images over time\n",
    "random_vector_for_generation = tf.random.normal([num_examples, noise_size])"
   ]
  },
  {
   "cell_type": "code",
   "execution_count": 18,
   "id": "b1e63ea1",
   "metadata": {},
   "outputs": [],
   "source": [
    "def train_step(images, update_generator=False):\n",
    "  # Generating noise from a normal distribution\n",
    "  noise = tf.random.normal([BATCH_SIZE, noise_size])\n",
    "\n",
    "  for w in discriminator.trainable_variables:\n",
    "    w.assign(tf.clip_by_value(w, -0.01, 0.01))\n",
    "    \n",
    "  with tf.GradientTape() as gen_tape, tf.GradientTape() as disc_tape:\n",
    "    generated_images = generator(noise, training=True)\n",
    "    real_output = discriminator(images, training=True)\n",
    "    generated_output = discriminator(generated_images, training=True)\n",
    "\n",
    "    gen_loss = get_generator_loss(generated_output)\n",
    "    disc_loss = get_discriminator_loss(real_output, generated_output)\n",
    "        \n",
    "    gradients_of_discriminator = disc_tape.gradient(-disc_loss, discriminator.trainable_variables)\n",
    "    discriminator_optimizer.apply_gradients(zip(gradients_of_discriminator, discriminator.trainable_variables))\n",
    "    if update_generator:\n",
    "      gradients_of_generator = gen_tape.gradient(gen_loss, generator.trainable_variables)\n",
    "      generator_optimizer.apply_gradients(zip(gradients_of_generator, generator.trainable_variables))\n",
    "\n",
    "  return gen_loss, disc_loss"
   ]
  },
  {
   "cell_type": "code",
   "execution_count": 19,
   "id": "88574fd9",
   "metadata": {},
   "outputs": [
    {
     "data": {
      "text/plain": [
       "32"
      ]
     },
     "execution_count": 19,
     "metadata": {},
     "output_type": "execute_result"
    }
   ],
   "source": [
    "len(train_dataset)"
   ]
  },
  {
   "cell_type": "code",
   "execution_count": 20,
   "id": "ca638373",
   "metadata": {},
   "outputs": [],
   "source": [
    "def train(dataset, epochs):\n",
    "  gen_iterations = 0\n",
    "  for epoch in range(epochs):\n",
    "    start = time.time()\n",
    "    disc_iterations = 0\n",
    "    for i, images in enumerate(dataset):\n",
    "      if disc_iterations == 0:\n",
    "        if gen_iterations < 25 or gen_iterations % 500 == 0:\n",
    "          disc_iterations = 100\n",
    "        else:\n",
    "          disc_iterations = 5\n",
    "      if disc_iterations == 1 or i == len(dataset) - 1:\n",
    "        gen_loss, disc_loss = train_step(images, True)\n",
    "        gen_iterations += 1\n",
    "      else:\n",
    "        gen_loss, disc_loss = train_step(images)\n",
    "      disc_iterations -= 1\n",
    "\n",
    "    display.clear_output(wait=True)\n",
    "    # Save generator every 500 epochs\n",
    "    if (epoch + 1) % 500 == 0:\n",
    "      generate_and_save_images(generator, epoch + 1, \n",
    "                               random_vector_for_generation, True)\n",
    "      generator.save('models/generator_baseline_' + str(epoch + 1))\n",
    "    else:\n",
    "      generate_and_save_images(generator, epoch + 1, \n",
    "                               random_vector_for_generation)\n",
    "\n",
    "    print ('Time taken for epoch {} is {} sec'.format(epoch + 1, \n",
    "                                                      time.time() - start))\n",
    "    print(\"Generator Loss: \", gen_loss)\n",
    "    print(\"Discriminator Loss: \", disc_loss)\n",
    "  # Generate after the final epoch\n",
    "  display.clear_output(wait=True)\n",
    "  generate_and_save_images(generator,\n",
    "                          epochs,\n",
    "                          random_vector_for_generation)"
   ]
  },
  {
   "cell_type": "code",
   "execution_count": null,
   "id": "3f4dc458",
   "metadata": {},
   "outputs": [
    {
     "data": {
      "image/png": "[encoded data removed]",
      "text/plain": [
       "<Figure size 720x720 with 8 Axes>"
      ]
     },
     "metadata": {
      "needs_background": "light"
     },
     "output_type": "display_data"
    },
    {
     "name": "stdout",
     "output_type": "stream",
     "text": [
      "Time taken for epoch 66 is 4.884673595428467 sec\n",
      "Generator Loss:  tf.Tensor(0.1261532, shape=(), dtype=float32)\n",
      "Discriminator Loss:  tf.Tensor(0.28538254, shape=(), dtype=float32)\n"
     ]
    }
   ],
   "source": [
    "train(train_dataset, EPOCHS)"
   ]
  },
  {
   "cell_type": "code",
   "execution_count": null,
   "id": "294e7e81",
   "metadata": {},
   "outputs": [],
   "source": []
  }
 ],
 "metadata": {
  "kernelspec": {
   "display_name": "Python 3 (ipykernel)",
   "language": "python",
   "name": "python3"
  },
  "language_info": {
   "codemirror_mode": {
    "name": "ipython",
    "version": 3
   },
   "file_extension": ".py",
   "mimetype": "text/x-python",
   "name": "python",
   "nbconvert_exporter": "python",
   "pygments_lexer": "ipython3",
   "version": "3.10.1"
  }
 },
 "nbformat": 4,
 "nbformat_minor": 5
}
