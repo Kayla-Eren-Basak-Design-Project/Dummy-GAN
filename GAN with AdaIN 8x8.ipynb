{
 "cells": [
  {
   "cell_type": "code",
   "execution_count": 1,
   "id": "24ba34a0",
   "metadata": {},
   "outputs": [
    {
     "name": "stderr",
     "output_type": "stream",
     "text": [
      "Using TensorFlow backend.\n"
     ]
    }
   ],
   "source": [
    "#Import packages\n",
    "import numpy as np\n",
    "from keras.layers import *\n",
    "from keras.models import *\n",
    "from keras.datasets import mnist\n",
    "from keras.optimizers import RMSprop\n",
    "import keras.backend as K\n",
    "import matplotlib.pyplot as plt\n",
    "from functools import partial"
   ]
  },
  {
   "cell_type": "code",
   "execution_count": 2,
   "id": "2595174e",
   "metadata": {},
   "outputs": [],
   "source": [
    "import tensorflow as tf"
   ]
  },
  {
   "cell_type": "code",
   "execution_count": 3,
   "id": "3975b105",
   "metadata": {},
   "outputs": [
    {
     "name": "stdout",
     "output_type": "stream",
     "text": [
      "(441, 8, 8, 1)\n"
     ]
    }
   ],
   "source": [
    "#Hyperparameters\n",
    "batch_size = 8\n",
    "iterations = 10000\n",
    "\n",
    "#Loss tracking\n",
    "d_loss = []\n",
    "g_loss = []\n",
    "gp_loss = []\n",
    "\n",
    "N = 8\n",
    "\n",
    "def generate_rect(x, y, w, h):\n",
    "  data = np.zeros((N,N))\n",
    "  data[x:x+w+1, y:y+h+1] = 1\n",
    "  data[x+1:x+w, y+1:y+h] = 0\n",
    "  #data = np.reshape(data, (N*N))\n",
    "  return data\n",
    "\n",
    "x_train = []\n",
    "\n",
    "for x in range(0, N-2):\n",
    "  for y in range(0, N-2):\n",
    "    for w in range(2,N):\n",
    "      for h in range(2,N):\n",
    "        if x+w<N and y+h<N:\n",
    "          x_train.append(generate_rect(x,y,w,h))\n",
    "x_train = np.array(x_train).astype('int32')\n",
    "x_train = np.reshape(x_train, (np.shape(x_train)[0], 8, 8, 1))\n",
    "#arr = arr[np.random.choice(123201, 60000, replace=False)]\n",
    "print(np.shape(x_train))"
   ]
  },
  {
   "cell_type": "code",
   "execution_count": 7,
   "id": "7787bd07",
   "metadata": {},
   "outputs": [],
   "source": [
    "def AdaIN(x):\n",
    "    #Normalize x[0]\n",
    "    mean = K.mean(x[0], axis = [0, 1], keepdims = True)\n",
    "    std = K.std(x[0], axis = [0, 1], keepdims = True) + 1e-7\n",
    "    y = (x[0] - mean) / std\n",
    "    \n",
    "    #Reshape gamma and beta\n",
    "    pool_shape = [-1, 1, 1, y.shape[-1]]\n",
    "    g = K.reshape(x[1], pool_shape)\n",
    "    b = K.reshape(x[2], pool_shape)\n",
    "    \n",
    "    #Multiply by x[1] (GAMMA) and add x[2] (BETA)\n",
    "    return y * g + b"
   ]
  },
  {
   "cell_type": "code",
   "execution_count": 8,
   "id": "0e2ed853",
   "metadata": {},
   "outputs": [],
   "source": [
    "def gradient_penalty_loss(y_true, y_pred, sample, weight):\n",
    "    gradients = K.gradients(y_pred, sample)[0]\n",
    "    gradients_sqr = K.square(gradients)\n",
    "    gradient_penalty = K.sum(gradients_sqr,\n",
    "                              axis=np.arange(1, len(gradients_sqr.shape)))\n",
    "\n",
    "    # (weight / 2) * ||grad||^2\n",
    "    # Penalize the gradient norm\n",
    "    return K.mean(gradient_penalty) * (weight / 2)"
   ]
  },
  {
   "cell_type": "code",
   "execution_count": 9,
   "id": "34eef508",
   "metadata": {},
   "outputs": [
    {
     "name": "stdout",
     "output_type": "stream",
     "text": [
      "WARNING:tensorflow:From C:\\Users\\User\\anaconda3\\envs\\gputest\\lib\\site-packages\\keras\\backend\\tensorflow_backend.py:68: The name tf.get_default_graph is deprecated. Please use tf.compat.v1.get_default_graph instead.\n",
      "\n",
      "WARNING:tensorflow:From C:\\Users\\User\\anaconda3\\envs\\gputest\\lib\\site-packages\\keras\\backend\\tensorflow_backend.py:508: The name tf.placeholder is deprecated. Please use tf.compat.v1.placeholder instead.\n",
      "\n",
      "WARNING:tensorflow:From C:\\Users\\User\\anaconda3\\envs\\gputest\\lib\\site-packages\\keras\\backend\\tensorflow_backend.py:3837: The name tf.random_uniform is deprecated. Please use tf.random.uniform instead.\n",
      "\n",
      "WARNING:tensorflow:From C:\\Users\\User\\anaconda3\\envs\\gputest\\lib\\site-packages\\keras\\backend\\tensorflow_backend.py:1944: The name tf.image.resize_nearest_neighbor is deprecated. Please use tf.compat.v1.image.resize_nearest_neighbor instead.\n",
      "\n",
      "__________________________________________________________________________________________________\n",
      "Layer (type)                    Output Shape         Param #     Connected to                     \n",
      "==================================================================================================\n",
      "input_1 (InputLayer)            (None, 8)            0                                            \n",
      "__________________________________________________________________________________________________\n",
      "dense_1 (Dense)                 (None, 128)          1152        input_1[0][0]                    \n",
      "__________________________________________________________________________________________________\n",
      "dense_2 (Dense)                 (None, 128)          16512       dense_1[0][0]                    \n",
      "__________________________________________________________________________________________________\n",
      "dense_3 (Dense)                 (None, 512)          66048       dense_2[0][0]                    \n",
      "__________________________________________________________________________________________________\n",
      "reshape_1 (Reshape)             (None, 4, 4, 32)     0           dense_3[0][0]                    \n",
      "__________________________________________________________________________________________________\n",
      "conv2d_1 (Conv2D)               (None, 4, 4, 16)     8208        reshape_1[0][0]                  \n",
      "__________________________________________________________________________________________________\n",
      "dense_4 (Dense)                 (None, 16)           2064        dense_2[0][0]                    \n",
      "__________________________________________________________________________________________________\n",
      "dense_5 (Dense)                 (None, 16)           2064        dense_2[0][0]                    \n",
      "__________________________________________________________________________________________________\n",
      "lambda_1 (Lambda)               (None, 4, 4, 16)     0           conv2d_1[0][0]                   \n",
      "                                                                 dense_4[0][0]                    \n",
      "                                                                 dense_5[0][0]                    \n",
      "__________________________________________________________________________________________________\n",
      "activation_1 (Activation)       (None, 4, 4, 16)     0           lambda_1[0][0]                   \n",
      "__________________________________________________________________________________________________\n",
      "up_sampling2d_1 (UpSampling2D)  (None, 8, 8, 16)     0           activation_1[0][0]               \n",
      "__________________________________________________________________________________________________\n",
      "conv2d_2 (Conv2D)               (None, 8, 8, 8)      2056        up_sampling2d_1[0][0]            \n",
      "__________________________________________________________________________________________________\n",
      "dense_6 (Dense)                 (None, 8, 8, 1)      9           conv2d_2[0][0]                   \n",
      "==================================================================================================\n",
      "Total params: 98,113\n",
      "Trainable params: 98,113\n",
      "Non-trainable params: 0\n",
      "__________________________________________________________________________________________________\n"
     ]
    }
   ],
   "source": [
    "#Build Generator network.\n",
    "\n",
    "#Latent input\n",
    "#latent = Input([100])\n",
    "latent = Input([8])\n",
    "\n",
    "#Mapping\n",
    "w = Dense(128, activation = 'relu')(latent)\n",
    "w = Dense(128, activation = 'relu')(w)\n",
    "\n",
    "#Small image\n",
    "x = Dense(4*4*32, activation = 'relu')(w)\n",
    "x = Reshape([4, 4, 32])(x)\n",
    "\n",
    "#Layer = Convolution, AdaIN, Activation\n",
    "#4x4x32\n",
    "gamma = Dense(16, bias_initializer = 'ones')(w)\n",
    "beta = Dense(16)(w)\n",
    "\n",
    "x = Conv2D(16, 4, padding = 'same')(x)\n",
    "x = Lambda(AdaIN)([x, gamma, beta])\n",
    "x = Activation('relu')(x)\n",
    "x = UpSampling2D()(x)\n",
    "\n",
    "#8x8x16\n",
    "x = Conv2D(8, 4, padding = 'same', activation = 'relu')(x)\n",
    "x = Dense(1, activation = 'sigmoid')(x)\n",
    "\n",
    "generator = Model(inputs = latent, outputs = x)\n",
    "generator.summary()"
   ]
  },
  {
   "cell_type": "code",
   "execution_count": 10,
   "id": "95672c1d",
   "metadata": {},
   "outputs": [
    {
     "name": "stdout",
     "output_type": "stream",
     "text": [
      "WARNING:tensorflow:From C:\\Users\\User\\anaconda3\\envs\\gputest\\lib\\site-packages\\keras\\backend\\tensorflow_backend.py:3665: The name tf.nn.avg_pool is deprecated. Please use tf.nn.avg_pool2d instead.\n",
      "\n"
     ]
    }
   ],
   "source": [
    "\n",
    "#Build discriminator network.\n",
    "discriminator = Sequential()\n",
    "\n",
    "#Discriminator starts with an image of shape 8x8x1.\n",
    "#Use convolution and pooling to extract features and make the image smaller.\n",
    "\n",
    "\n",
    "#Now the image is 8x8x1. Use more convolution and pooling.\n",
    "discriminator.add(Conv2D(filters = 16, kernel_size = 4, padding = 'same', activation = 'relu', input_shape = [8, 8, 1]))\n",
    "discriminator.add(AveragePooling2D())\n",
    "\n",
    "#Now the image is 4x4x16. Use more convolution and flatten the image.\n",
    "discriminator.add(Conv2D(filters = 32, kernel_size = 4, padding = 'same', activation = 'relu'))\n",
    "discriminator.add(Flatten())\n",
    "\n",
    "#Now you have a vector of length 4*4*32, use fully connected networks to find your output\n",
    "discriminator.add(Dense(100, activation = 'relu'))\n",
    "#discriminator.add(Dense(8, activation = 'relu'))\n",
    "discriminator.add(Dense(1)) "
   ]
  },
  {
   "cell_type": "code",
   "execution_count": 11,
   "id": "fc3ac1fe",
   "metadata": {},
   "outputs": [
    {
     "name": "stdout",
     "output_type": "stream",
     "text": [
      "WARNING:tensorflow:From C:\\Users\\User\\anaconda3\\envs\\gputest\\lib\\site-packages\\keras\\optimizers.py:757: The name tf.train.Optimizer is deprecated. Please use tf.compat.v1.train.Optimizer instead.\n",
      "\n",
      "__________________________________________________________________________________________________\n",
      "Layer (type)                    Output Shape         Param #     Connected to                     \n",
      "==================================================================================================\n",
      "input_3 (InputLayer)            (None, 8)            0                                            \n",
      "__________________________________________________________________________________________________\n",
      "input_2 (InputLayer)            (None, 8, 8, 1)      0                                            \n",
      "__________________________________________________________________________________________________\n",
      "model_1 (Model)                 (None, 8, 8, 1)      98113       input_3[0][0]                    \n",
      "__________________________________________________________________________________________________\n",
      "sequential_1 (Sequential)       (None, 1)            59897       input_2[0][0]                    \n",
      "                                                                 model_1[1][0]                    \n",
      "==================================================================================================\n",
      "Total params: 158,010\n",
      "Trainable params: 59,897\n",
      "Non-trainable params: 98,113\n",
      "__________________________________________________________________________________________________\n"
     ]
    },
    {
     "name": "stderr",
     "output_type": "stream",
     "text": [
      "C:\\Users\\User\\anaconda3\\envs\\gputest\\lib\\site-packages\\keras\\engine\\topology.py:1541: UserWarning: The list of outputs passed to the model is redundant. All outputs should only appear once. Found: [<tf.Tensor 'sequential_1/dense_8/BiasAdd:0' shape=(?, 1) dtype=float32>, <tf.Tensor 'sequential_1_1/dense_8/BiasAdd:0' shape=(?, 1) dtype=float32>, <tf.Tensor 'sequential_1/dense_8/BiasAdd:0' shape=(?, 1) dtype=float32>]\n",
      "  ' Found: ' + str(self.outputs))\n"
     ]
    }
   ],
   "source": [
    "#Build network to train the discriminator.\n",
    "#Discriminator will train, but Generator won't train.\n",
    "for layer in discriminator.layers:\n",
    "    layer.trainable = True\n",
    "    \n",
    "for layer in generator.layers:\n",
    "    layer.trainable = False\n",
    "    \n",
    "#Get real image\n",
    "real_image = Input([8, 8, 1])\n",
    "#Discriminator classifies\n",
    "validity_real = discriminator(real_image)\n",
    "\n",
    "\n",
    "#Get latent input\n",
    "#latent_input = Input([100])\n",
    "latent_input = Input([8])\n",
    "\n",
    "#Generate an image\n",
    "fake_image = generator(latent_input)\n",
    "\n",
    "#Discriminator classifies\n",
    "validity_fake = discriminator(fake_image)\n",
    "\n",
    "#Create and compile the model\n",
    "DiscriminatorModel = Model(inputs = [real_image, latent_input], outputs = [validity_real, validity_fake, validity_real])\n",
    "\n",
    "gp_loss_partial = partial(gradient_penalty_loss, sample = real_image, weight = 10)\n",
    "\n",
    "DiscriminatorModel.compile(optimizer = RMSprop(lr = 0.0002), loss = ['mean_squared_error', 'mean_squared_error', gp_loss_partial])\n",
    "\n",
    "DiscriminatorModel.summary()"
   ]
  },
  {
   "cell_type": "code",
   "execution_count": 12,
   "id": "472d866e",
   "metadata": {},
   "outputs": [],
   "source": [
    "#Build network to train the generator.\n",
    "#Discriminator won't train, but Generator will train.\n",
    "for layer in discriminator.layers:\n",
    "    layer.trainable = False\n",
    "    \n",
    "for layer in generator.layers:\n",
    "    layer.trainable = True\n",
    "\n",
    "#Get latent input\n",
    "#latent_input = Input([100])\n",
    "latent_input = Input([8])\n",
    "\n",
    "#Generate an image\n",
    "fake_image = generator(latent_input)\n",
    "\n",
    "#Discriminator classifies\n",
    "validity = discriminator(fake_image)\n",
    "\n",
    "#Create and compile the model\n",
    "GeneratorModel = Model(inputs = latent_input, outputs = validity)\n",
    "\n",
    "GeneratorModel.compile(optimizer = RMSprop(lr = 0.0002), loss = 'mean_squared_error')"
   ]
  },
  {
   "cell_type": "code",
   "execution_count": 13,
   "id": "5eb90ab2",
   "metadata": {},
   "outputs": [
    {
     "name": "stdout",
     "output_type": "stream",
     "text": [
      "\r",
      "Iteration 0\r"
     ]
    },
    {
     "name": "stderr",
     "output_type": "stream",
     "text": [
      "C:\\Users\\User\\anaconda3\\envs\\gputest\\lib\\site-packages\\keras\\engine\\training.py:975: UserWarning: Discrepancy between trainable weights and collected trainable weights, did you set `model.trainable` without calling `model.compile` after ?\n",
      "  'Discrepancy between trainable weights and collected trainable'\n"
     ]
    },
    {
     "name": "stdout",
     "output_type": "stream",
     "text": [
      "WARNING:tensorflow:From C:\\Users\\User\\anaconda3\\envs\\gputest\\lib\\site-packages\\keras\\backend\\tensorflow_backend.py:977: The name tf.assign_add is deprecated. Please use tf.compat.v1.assign_add instead.\n",
      "\n",
      "WARNING:tensorflow:From C:\\Users\\User\\anaconda3\\envs\\gputest\\lib\\site-packages\\keras\\backend\\tensorflow_backend.py:964: The name tf.assign is deprecated. Please use tf.compat.v1.assign instead.\n",
      "\n",
      "WARNING:tensorflow:From C:\\Users\\User\\anaconda3\\envs\\gputest\\lib\\site-packages\\keras\\backend\\tensorflow_backend.py:2503: The name tf.Session is deprecated. Please use tf.compat.v1.Session instead.\n",
      "\n",
      "WARNING:tensorflow:From C:\\Users\\User\\anaconda3\\envs\\gputest\\lib\\site-packages\\keras\\backend\\tensorflow_backend.py:168: The name tf.get_default_session is deprecated. Please use tf.compat.v1.get_default_session instead.\n",
      "\n",
      "WARNING:tensorflow:From C:\\Users\\User\\anaconda3\\envs\\gputest\\lib\\site-packages\\keras\\backend\\tensorflow_backend.py:175: The name tf.ConfigProto is deprecated. Please use tf.compat.v1.ConfigProto instead.\n",
      "\n",
      "WARNING:tensorflow:From C:\\Users\\User\\anaconda3\\envs\\gputest\\lib\\site-packages\\keras\\backend\\tensorflow_backend.py:184: The name tf.global_variables is deprecated. Please use tf.compat.v1.global_variables instead.\n",
      "\n",
      "WARNING:tensorflow:From C:\\Users\\User\\anaconda3\\envs\\gputest\\lib\\site-packages\\keras\\backend\\tensorflow_backend.py:193: The name tf.is_variable_initialized is deprecated. Please use tf.compat.v1.is_variable_initialized instead.\n",
      "\n",
      "WARNING:tensorflow:From C:\\Users\\User\\anaconda3\\envs\\gputest\\lib\\site-packages\\keras\\backend\\tensorflow_backend.py:200: The name tf.variables_initializer is deprecated. Please use tf.compat.v1.variables_initializer instead.\n",
      "\n",
      "Iteration 19\r"
     ]
    },
    {
     "name": "stderr",
     "output_type": "stream",
     "text": [
      "C:\\Users\\User\\anaconda3\\envs\\gputest\\lib\\site-packages\\keras\\engine\\training.py:975: UserWarning: Discrepancy between trainable weights and collected trainable weights, did you set `model.trainable` without calling `model.compile` after ?\n",
      "  'Discrepancy between trainable weights and collected trainable'\n"
     ]
    },
    {
     "name": "stdout",
     "output_type": "stream",
     "text": [
      "Iteration 9999\r"
     ]
    }
   ],
   "source": [
    "#Train the models in a loop\n",
    "for i in range(iterations):\n",
    "    \n",
    "    print('\\rIteration ' + str(i), end = '\\r')\n",
    "    \n",
    "    #Get labels\n",
    "    real_labels = np.ones([batch_size, 1])\n",
    "    fake_labels = np.zeros([batch_size, 1])\n",
    "    \n",
    "    #Get images and latent vectors\n",
    "    image_indices = np.random.randint(0, x_train.shape[0] - 1, [batch_size])\n",
    "    real_images = x_train[image_indices]\n",
    "    #latent_vectors = np.random.normal(0.0, 1.0, [batch_size, 100])\n",
    "    latent_vectors = np.random.normal(0.0, 1.0, [batch_size, 8])\n",
    "    #latent_vectors = np.random.randint(2,[batch_size, 8])\n",
    "    \n",
    "    #Train D\n",
    "    loss = DiscriminatorModel.train_on_batch([real_images, latent_vectors], [real_labels, fake_labels, real_labels])\n",
    "    d_loss.append(loss[1]/2 + loss[2]/2)\n",
    "    gp_loss.append(loss[3])\n",
    "    \n",
    "    #Get latent vectors\n",
    "    #latent_vectors = np.random.normal(0.0, 1.0, [batch_size, 100])\n",
    "    latent_vectors = np.random.normal(0.0, 1.0, [batch_size, 8])\n",
    "    \n",
    "    #Train G\n",
    "    loss = GeneratorModel.train_on_batch(latent_vectors, real_labels)\n",
    "    g_loss.append(loss)"
   ]
  },
  {
   "cell_type": "code",
   "execution_count": 14,
   "id": "76e8031e",
   "metadata": {},
   "outputs": [
    {
     "data": {
      "image/png": "[encoded data removed]",
      "text/plain": [
       "<Figure size 640x480 with 1 Axes>"
      ]
     },
     "metadata": {},
     "output_type": "display_data"
    },
    {
     "data": {
      "image/png": "[encoded data removed]",
      "text/plain": [
       "<Figure size 640x480 with 1 Axes>"
      ]
     },
     "metadata": {},
     "output_type": "display_data"
    },
    {
     "data": {
      "image/png": "[encoded data removed]",
      "text/plain": [
       "<Figure size 640x480 with 1 Axes>"
      ]
     },
     "metadata": {},
     "output_type": "display_data"
    },
    {
     "data": {
      "image/png": "[encoded data removed]",
      "text/plain": [
       "<Figure size 640x480 with 1 Axes>"
      ]
     },
     "metadata": {},
     "output_type": "display_data"
    },
    {
     "data": {
      "image/png": "[encoded data removed]",
      "text/plain": [
       "<Figure size 640x480 with 1 Axes>"
      ]
     },
     "metadata": {},
     "output_type": "display_data"
    },
    {
     "data": {
      "image/png": "[encoded data removed]",
      "text/plain": [
       "<Figure size 640x480 with 1 Axes>"
      ]
     },
     "metadata": {},
     "output_type": "display_data"
    },
    {
     "data": {
      "image/png": "[encoded data removed]",
      "text/plain": [
       "<Figure size 640x480 with 1 Axes>"
      ]
     },
     "metadata": {},
     "output_type": "display_data"
    },
    {
     "data": {
      "image/png": "[encoded data removed]",
      "text/plain": [
       "<Figure size 640x480 with 1 Axes>"
      ]
     },
     "metadata": {},
     "output_type": "display_data"
    }
   ],
   "source": [
    "#Show samples\n",
    "#latent_vectors = np.random.normal(0.0, 1.0, [8, 100])\n",
    "latent_vectors = np.random.normal(0.0, 1.0, [8, 8])\n",
    "fake_images = generator.predict(latent_vectors)\n",
    "fake_images = np.rint(fake_images)\n",
    "\n",
    "for i in range(8):\n",
    "    plt.figure(i)\n",
    "    plt.imshow(fake_images[i])\n",
    "plt.show()"
   ]
  },
  {
   "cell_type": "code",
   "execution_count": null,
   "id": "a903a575",
   "metadata": {},
   "outputs": [],
   "source": []
  }
 ],
 "metadata": {
  "kernelspec": {
   "display_name": "gputest",
   "language": "python",
   "name": "gputest"
  },
  "language_info": {
   "codemirror_mode": {
    "name": "ipython",
    "version": 3
   },
   "file_extension": ".py",
   "mimetype": "text/x-python",
   "name": "python",
   "nbconvert_exporter": "python",
   "pygments_lexer": "ipython3",
   "version": "3.7.13"
  }
 },
 "nbformat": 4,
 "nbformat_minor": 5
}
