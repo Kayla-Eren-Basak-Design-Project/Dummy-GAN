{
  "cells": [
    {
      "cell_type": "code",
      "execution_count": 2,
      "id": "15fef83a",
      "metadata": {
        "id": "15fef83a"
      },
      "outputs": [],
      "source": [
        "import matplotlib.pyplot as plt\n",
        "import tensorflow as tf\n",
        "from tensorflow.keras import layers\n",
        "import numpy as np\n",
        "import time\n",
        "import json\n",
        "\n",
        "from IPython import display"
      ]
    },
    {
      "cell_type": "code",
      "execution_count": 3,
      "id": "8aeb5075",
      "metadata": {
        "id": "8aeb5075"
      },
      "outputs": [],
      "source": [
        "BATCH_SIZE = 32\n",
        "MAP_SIZE = 32\n",
        "LR_D = LR_G = 0.00005"
      ]
    },
    {
      "cell_type": "code",
      "execution_count": 4,
      "id": "c09eca31",
      "metadata": {
        "colab": {
          "base_uri": "https://localhost:8080/"
        },
        "id": "c09eca31",
        "outputId": "0c04794c-32a0-455e-f64c-1ffeeba31231"
      },
      "outputs": [
        {
          "output_type": "stream",
          "name": "stdout",
          "text": [
            "(216225, 32, 32)\n"
          ]
        }
      ],
      "source": [
        "N = 32\n",
        "\n",
        "def generate_rect(x, y, w, h):\n",
        "  data = np.zeros((N,N))\n",
        "  data[x:x+w+1, y:y+h+1] = 1\n",
        "  data[x+1:x+w, y+1:y+h] = 0\n",
        "  #data = np.reshape(data, (N*N))\n",
        "  return data\n",
        "\n",
        "train_images = []\n",
        "\n",
        "for x in range(0, N-2):\n",
        "  for y in range(0, N-2):\n",
        "    for w in range(2,N):\n",
        "      for h in range(2,N):\n",
        "        if x+w<N and y+h<N:\n",
        "          train_images.append(generate_rect(x,y,w,h))\n",
        "train_images = np.array(train_images).astype('int32')\n",
        "#train_images = train_images[np.random.choice(np.shape(train_images)[0], 20000, replace=False)]\n",
        "\n",
        "print(np.shape(train_images))"
      ]
    },
    {
      "cell_type": "code",
      "execution_count": null,
      "id": "b73245b0",
      "metadata": {
        "id": "b73245b0",
        "outputId": "afadfc8d-9855-4862-ceca-1ddcb3d606db"
      },
      "outputs": [
        {
          "data": {
            "text/plain": [
              "<matplotlib.image.AxesImage at 0x1518e6fa5e0>"
            ]
          },
          "execution_count": 4,
          "metadata": {},
          "output_type": "execute_result"
        },
        {
          "data": {
            "image/png": "[encoded data removed]",
            "text/plain": [
              "<Figure size 432x288 with 1 Axes>"
            ]
          },
          "metadata": {
            "needs_background": "light"
          },
          "output_type": "display_data"
        }
      ],
      "source": [
        "plt.imshow(train_images[2])"
      ]
    },
    {
      "cell_type": "code",
      "execution_count": null,
      "id": "46488af2",
      "metadata": {
        "id": "46488af2",
        "outputId": "4c495776-135d-4daa-a1b9-2291e8d85ec2"
      },
      "outputs": [
        {
          "name": "stdout",
          "output_type": "stream",
          "text": [
            "2\n",
            "(216225, 32, 32, 2)\n",
            "(216225, 32, 32, 2)\n",
            "(216225, 32, 32, 2)\n"
          ]
        }
      ],
      "source": [
        "train_size, x_dims, y_dims = train_images.shape\n",
        "z_dims = np.amax(train_images) + 1 # Number of different title types\n",
        "print(z_dims)\n",
        "train_images_onehot = np.eye(z_dims, dtype='uint8')[train_images]\n",
        "print(train_images_onehot.shape) # (train_size, x_dims, y_dims, z_dims)\n",
        "\n",
        "train_images = np.zeros((train_size, MAP_SIZE, MAP_SIZE, z_dims))\n",
        "print(train_images.shape)\n",
        "\n",
        "# TODO: Change empty space encoding here if different\n",
        "train_images[:, :, :, 1] = 0.0  # Fill with empty space \n",
        "\n",
        "train_images[:train_size, :x_dims, :y_dims, :] = train_images_onehot\n",
        "print(train_images.shape)"
      ]
    },
    {
      "cell_type": "code",
      "execution_count": null,
      "id": "5d9cf213",
      "metadata": {
        "id": "5d9cf213"
      },
      "outputs": [],
      "source": [
        "def get_random_images():\n",
        "    sample_images = train_images[np.random.choice(np.shape(train_images)[0], 2000, replace=False)]\n",
        "    train_size, x_dims, y_dims = sample_images.shape\n",
        "    z_dims = np.amax(sample_images) + 1 # Number of different title types\n",
        "    train_images_onehot = np.eye(z_dims, dtype='uint8')[sample_images]\n",
        "\n",
        "    sample_images = np.zeros((train_size, MAP_SIZE, MAP_SIZE, z_dims))\n",
        "\n",
        "    # TODO: Change empty space encoding here if different\n",
        "    sample_images[:, :, :, 1] = 0.0  # Fill with empty space \n",
        "\n",
        "    sample_images[:train_size, :x_dims, :y_dims, :] = train_images_onehot\n",
        "    sample_dataset = tf.data.Dataset.from_tensor_slices(sample_images).shuffle(sample_images.shape[0]).batch(BATCH_SIZE)\n",
        "    \n",
        "    return (sample_dataset)\n",
        "    "
      ]
    },
    {
      "cell_type": "code",
      "execution_count": null,
      "id": "a86c5543",
      "metadata": {
        "id": "a86c5543",
        "outputId": "455eb185-c45c-4c78-f8f9-66d861b38326"
      },
      "outputs": [
        {
          "data": {
            "text/plain": [
              "<matplotlib.image.AxesImage at 0x151461c9a00>"
            ]
          },
          "execution_count": 7,
          "metadata": {},
          "output_type": "execute_result"
        },
        {
          "data": {
            "image/png": "[encoded data removed]",
            "text/plain": [
              "<Figure size 432x288 with 1 Axes>"
            ]
          },
          "metadata": {
            "needs_background": "light"
          },
          "output_type": "display_data"
        }
      ],
      "source": [
        "plt.imshow(np.argmax(train_images[2], axis=2))"
      ]
    },
    {
      "cell_type": "code",
      "execution_count": 5,
      "id": "9a968085",
      "metadata": {
        "id": "9a968085"
      },
      "outputs": [],
      "source": [
        "from keras.initializers import RandomNormal\n",
        "from keras.layers import Dense, Conv2D, Flatten, Reshape, Dropout, LeakyReLU, Conv2DTranspose\n",
        "from keras.models import Sequential\n",
        "img_cols, img_rows, channels = 32,32,2\n",
        "optimizer = tf.optimizers.Adam(0.0002, 0.5)\n",
        "noise_dim = 128"
      ]
    },
    {
      "cell_type": "code",
      "execution_count": 6,
      "id": "81c346ec",
      "metadata": {
        "id": "81c346ec"
      },
      "outputs": [],
      "source": [
        "def make_discriminator_model(n_extra_layers=0):\n",
        "   discriminator = Sequential()\n",
        "\n",
        "   discriminator.add(Dense(1024, input_dim=img_rows*img_cols*channels))\n",
        "   discriminator.add(LeakyReLU(0.2))\n",
        "\n",
        "   discriminator.add(Dense(512))\n",
        "   discriminator.add(LeakyReLU(0.2))\n",
        "\n",
        "   discriminator.add(Dense(256))\n",
        "   discriminator.add(LeakyReLU(0.2))\n",
        "\n",
        "   discriminator.add(Dense(1, activation='sigmoid'))\n",
        "\n",
        "   discriminator.compile(loss='binary_crossentropy', optimizer=optimizer)\n",
        "   return discriminator"
      ]
    },
    {
      "cell_type": "code",
      "execution_count": 7,
      "id": "82a32547",
      "metadata": {
        "id": "82a32547"
      },
      "outputs": [],
      "source": [
        "def make_generator_model(n_extra_layers=0):\n",
        "   generator = Sequential()\n",
        "    \n",
        "   generator.add(Dense(256, input_dim=noise_dim))\n",
        "   generator.add(LeakyReLU(0.2))\n",
        "\n",
        "   generator.add(Dense(512))\n",
        "   generator.add(LeakyReLU(0.2))\n",
        "\n",
        "   generator.add(Dense(1024))\n",
        "   generator.add(LeakyReLU(0.2))\n",
        "\n",
        "   generator.add(Dense(img_rows*img_cols*channels, activation='tanh'))\n",
        "    \n",
        "   generator.compile(loss='binary_crossentropy', optimizer=optimizer)\n",
        "   return generator"
      ]
    },
    {
      "cell_type": "code",
      "execution_count": 8,
      "id": "3fc2df80",
      "metadata": {
        "id": "3fc2df80"
      },
      "outputs": [],
      "source": [
        "discriminator = make_discriminator_model()\n",
        "generator = make_generator_model()"
      ]
    },
    {
      "cell_type": "code",
      "execution_count": 9,
      "id": "c002f889",
      "metadata": {
        "scrolled": true,
        "colab": {
          "base_uri": "https://localhost:8080/"
        },
        "id": "c002f889",
        "outputId": "4ab4bc29-a4c8-4729-83ca-e231d4288b51"
      },
      "outputs": [
        {
          "output_type": "stream",
          "name": "stdout",
          "text": [
            "Model: \"sequential\"\n",
            "_________________________________________________________________\n",
            " Layer (type)                Output Shape              Param #   \n",
            "=================================================================\n",
            " dense (Dense)               (None, 1024)              2098176   \n",
            "                                                                 \n",
            " leaky_re_lu (LeakyReLU)     (None, 1024)              0         \n",
            "                                                                 \n",
            " dense_1 (Dense)             (None, 512)               524800    \n",
            "                                                                 \n",
            " leaky_re_lu_1 (LeakyReLU)   (None, 512)               0         \n",
            "                                                                 \n",
            " dense_2 (Dense)             (None, 256)               131328    \n",
            "                                                                 \n",
            " leaky_re_lu_2 (LeakyReLU)   (None, 256)               0         \n",
            "                                                                 \n",
            " dense_3 (Dense)             (None, 1)                 257       \n",
            "                                                                 \n",
            "=================================================================\n",
            "Total params: 2,754,561\n",
            "Trainable params: 2,754,561\n",
            "Non-trainable params: 0\n",
            "_________________________________________________________________\n",
            "None\n",
            "Model: \"sequential_1\"\n",
            "_________________________________________________________________\n",
            " Layer (type)                Output Shape              Param #   \n",
            "=================================================================\n",
            " dense_4 (Dense)             (None, 256)               33024     \n",
            "                                                                 \n",
            " leaky_re_lu_3 (LeakyReLU)   (None, 256)               0         \n",
            "                                                                 \n",
            " dense_5 (Dense)             (None, 512)               131584    \n",
            "                                                                 \n",
            " leaky_re_lu_4 (LeakyReLU)   (None, 512)               0         \n",
            "                                                                 \n",
            " dense_6 (Dense)             (None, 1024)              525312    \n",
            "                                                                 \n",
            " leaky_re_lu_5 (LeakyReLU)   (None, 1024)              0         \n",
            "                                                                 \n",
            " dense_7 (Dense)             (None, 2048)              2099200   \n",
            "                                                                 \n",
            "=================================================================\n",
            "Total params: 2,789,120\n",
            "Trainable params: 2,789,120\n",
            "Non-trainable params: 0\n",
            "_________________________________________________________________\n",
            "None\n"
          ]
        }
      ],
      "source": [
        "print(discriminator.summary())\n",
        "print(generator.summary())"
      ]
    },
    {
      "cell_type": "code",
      "execution_count": null,
      "id": "4e65f43e",
      "metadata": {
        "id": "4e65f43e",
        "outputId": "69e90418-6522-4d8f-dfac-b0b0e3576c52"
      },
      "outputs": [
        {
          "name": "stdout",
          "output_type": "stream",
          "text": [
            "(1, 2048)\n",
            "(1, 1)\n"
          ]
        }
      ],
      "source": [
        "print(generator(np.random.rand(1, 128)).shape)\n",
        "print(discriminator(np.random.rand(1, MAP_SIZE*MAP_SIZE*z_dims)).shape)"
      ]
    },
    {
      "cell_type": "code",
      "execution_count": 10,
      "id": "a74a6c96",
      "metadata": {
        "id": "a74a6c96"
      },
      "outputs": [],
      "source": [
        "def get_discriminator_loss(real_output, generated_output):\n",
        "  real_loss = tf.reduce_mean(real_output)\n",
        "  generated_loss = tf.reduce_mean(generated_output)\n",
        "  total_loss = real_loss - generated_loss\n",
        "\n",
        "  return total_loss\n",
        "\n",
        "\n",
        "def get_generator_loss(generated_output):\n",
        "  return -tf.reduce_mean(generated_output)"
      ]
    },
    {
      "cell_type": "code",
      "execution_count": 11,
      "id": "62374aca",
      "metadata": {
        "id": "62374aca"
      },
      "outputs": [],
      "source": [
        "discriminator_optimizer = tf.optimizers.RMSprop(LR_D)\n",
        "generator_optimizer = tf.optimizers.RMSprop(LR_G)"
      ]
    },
    {
      "cell_type": "code",
      "execution_count": 12,
      "id": "dc2a3327",
      "metadata": {
        "id": "dc2a3327"
      },
      "outputs": [],
      "source": [
        "def generate_and_save_images(model, epoch, test_input, savefig=False):\n",
        "  predictions = model(test_input, training=False)\n",
        "\n",
        "  fig = plt.figure(figsize=(10, 10))\n",
        "\n",
        "  for i in range(predictions.shape[0]):\n",
        "    plt.subplot(4, 4, i+1)\n",
        "    plt.imshow(np.argmax(predictions[i], axis=2))\n",
        "    plt.axis('off')\n",
        "\n",
        "  if savefig:\n",
        "    plt.savefig('image_at_epoch_{:04d}.png'.format(epoch))\n",
        "  plt.show()"
      ]
    },
    {
      "cell_type": "code",
      "execution_count": 13,
      "id": "ae9c3dd8",
      "metadata": {
        "id": "ae9c3dd8"
      },
      "outputs": [],
      "source": [
        "EPOCHS = 10000\n",
        "noise_size = 128\n",
        "num_examples = 8\n",
        "\n",
        "# Use same random vector to see evolution of generated images over time\n",
        "random_vector_for_generation = tf.random.normal([num_examples, noise_size])"
      ]
    },
    {
      "cell_type": "code",
      "execution_count": 14,
      "id": "b1e63ea1",
      "metadata": {
        "id": "b1e63ea1"
      },
      "outputs": [],
      "source": [
        "def train_step(images, update_generator=False):\n",
        "  # Generating noise from a normal distribution\n",
        "  noise = tf.random.normal([BATCH_SIZE, noise_size])\n",
        "\n",
        "  for w in discriminator.trainable_variables:\n",
        "    w.assign(tf.clip_by_value(w, -0.01, 0.01))\n",
        "    \n",
        "  with tf.GradientTape() as gen_tape, tf.GradientTape() as disc_tape:\n",
        "    generated_images = generator(noise, training=True)\n",
        "    real_output = discriminator(images, training=True)\n",
        "    generated_output = discriminator(generated_images, training=True)\n",
        "\n",
        "    gen_loss = get_generator_loss(generated_output)\n",
        "    disc_loss = get_discriminator_loss(real_output, generated_output)\n",
        "        \n",
        "    gradients_of_discriminator = disc_tape.gradient(-disc_loss, discriminator.trainable_variables)\n",
        "    discriminator_optimizer.apply_gradients(zip(gradients_of_discriminator, discriminator.trainable_variables))\n",
        "    if update_generator:\n",
        "      gradients_of_generator = gen_tape.gradient(gen_loss, generator.trainable_variables)\n",
        "      generator_optimizer.apply_gradients(zip(gradients_of_generator, generator.trainable_variables))\n",
        "\n",
        "  return gen_loss, disc_loss"
      ]
    },
    {
      "cell_type": "code",
      "execution_count": null,
      "id": "88574fd9",
      "metadata": {
        "id": "88574fd9",
        "outputId": "148c359a-df8b-484d-e759-6a26eff990a8"
      },
      "outputs": [
        {
          "ename": "NameError",
          "evalue": "name 'train_dataset' is not defined",
          "output_type": "error",
          "traceback": [
            "\u001b[1;31m---------------------------------------------------------------------------\u001b[0m",
            "\u001b[1;31mNameError\u001b[0m                                 Traceback (most recent call last)",
            "Input \u001b[1;32mIn [20]\u001b[0m, in \u001b[0;36m<cell line: 1>\u001b[1;34m()\u001b[0m\n\u001b[1;32m----> 1\u001b[0m \u001b[38;5;28mlen\u001b[39m(\u001b[43mtrain_dataset\u001b[49m)\n",
            "\u001b[1;31mNameError\u001b[0m: name 'train_dataset' is not defined"
          ]
        }
      ],
      "source": [
        "len(train_dataset)\n",
        "print(\"active runtime 222\")"
      ]
    },
    {
      "cell_type": "code",
      "execution_count": 15,
      "id": "ca638373",
      "metadata": {
        "id": "ca638373"
      },
      "outputs": [],
      "source": [
        "def train(dataset, epochs):\n",
        "  gen_iterations = 0\n",
        "  for epoch in range(epochs):\n",
        "    start = time.time()\n",
        "    disc_iterations = 0\n",
        "    \n",
        "    sample_images = train_images[np.random.choice(np.shape(train_images)[0], 2000, replace=False)]\n",
        "    train_size, x_dims, y_dims = sample_images.shape\n",
        "    z_dims = np.amax(sample_images) + 1 # Number of different title types\n",
        "    train_images_onehot = np.eye(z_dims, dtype='uint8')[sample_images]\n",
        "\n",
        "    sample_images = np.zeros((train_size, MAP_SIZE, MAP_SIZE, z_dims))\n",
        "\n",
        "    # TODO: Change empty space encoding here if different\n",
        "    sample_images[:, :, :, 1] = 0.0  # Fill with empty space \n",
        "\n",
        "    sample_images[:train_size, :x_dims, :y_dims, :] = train_images_onehot\n",
        "    sample_dataset = tf.data.Dataset.from_tensor_slices(sample_images).shuffle(sample_images.shape[0]).batch(BATCH_SIZE)\n",
        "    \n",
        "    for i, images in enumerate(sample_dataset):\n",
        "      images = np.reshape(images, (images.shape[0],img_rows*img_cols*channels))\n",
        "      if disc_iterations == 0:\n",
        "        if gen_iterations < 25 or gen_iterations % 500 == 0:\n",
        "          disc_iterations = 100\n",
        "        else:\n",
        "          disc_iterations = 5\n",
        "      if disc_iterations == 1 or i == len(sample_dataset) - 1:\n",
        "        gen_loss, disc_loss = train_step(images, True)\n",
        "        gen_iterations += 1\n",
        "      else:\n",
        "        gen_loss, disc_loss = train_step(images)\n",
        "      disc_iterations -= 1\n",
        "\n",
        "    #display.clear_output(wait=True)\n",
        "    # Save generator every 500 epochs\n",
        "    if (epoch + 1) % 500 == 0:\n",
        "        print(\"Epoch: \", epoch)\n",
        "        print(\"Generator Loss: \", gen_loss)\n",
        "        print(\"Discriminator Loss: \", disc_loss)\n",
        "    #  generate_and_save_images(generator, epoch + 1, \n",
        "    #                           random_vector_for_generation, True)\n",
        "    #  generator.save('models/generator_baseline_' + str(epoch + 1))\n",
        "    #else:\n",
        "    #  generate_and_save_images(generator, epoch + 1, \n",
        "    #                           random_vector_for_generation)\n",
        "\n",
        "    #print ('Time taken for epoch {} is {} sec'.format(epoch + 1, \n",
        "    #                                                  time.time() - start))\n",
        "    #print(\"Generator Loss: \", gen_loss)\n",
        "    #print(\"Discriminator Loss: \", disc_loss)\n",
        "  # Generate after the final epoch\n",
        "  #display.clear_output(wait=True)\n",
        "  # # runtime runtime active active runtime active runtime active active runtime pls activeeeeee\n",
        "  # # active runtime\n",
        "  # # brb 10 min active runtime\n",
        "  # # active runtime active\n",
        "  # # almost there active runtime active runtime\n",
        "  # # active runtime\n",
        "  # # active runtime\n",
        "  # # active runtime last 1000\n",
        "  # # active runtime\n",
        "  #generate_and_save_images(generator,\n",
        "  #                        epochs,\n",
        "  #                        random_vector_for_generation)"
      ]
    },
    {
      "cell_type": "code",
      "execution_count": 16,
      "id": "3f4dc458",
      "metadata": {
        "colab": {
          "base_uri": "https://localhost:8080/"
        },
        "id": "3f4dc458",
        "outputId": "c01c42ea-ad8b-4943-ead8-430bc4a271ca"
      },
      "outputs": [
        {
          "output_type": "stream",
          "name": "stdout",
          "text": [
            "Epoch:  499\n",
            "Generator Loss:  tf.Tensor(-4.672449e-10, shape=(), dtype=float32)\n",
            "Discriminator Loss:  tf.Tensor(-4.672423e-10, shape=(), dtype=float32)\n",
            "Epoch:  999\n",
            "Generator Loss:  tf.Tensor(-4.799043e-11, shape=(), dtype=float32)\n",
            "Discriminator Loss:  tf.Tensor(-4.7989803e-11, shape=(), dtype=float32)\n",
            "Epoch:  1499\n",
            "Generator Loss:  tf.Tensor(-7.37495e-11, shape=(), dtype=float32)\n",
            "Discriminator Loss:  tf.Tensor(-7.374933e-11, shape=(), dtype=float32)\n",
            "Epoch:  1999\n",
            "Generator Loss:  tf.Tensor(-8.763796e-11, shape=(), dtype=float32)\n",
            "Discriminator Loss:  tf.Tensor(-8.763784e-11, shape=(), dtype=float32)\n",
            "Epoch:  2499\n",
            "Generator Loss:  tf.Tensor(-1.6733367e-10, shape=(), dtype=float32)\n",
            "Discriminator Loss:  tf.Tensor(-1.6733358e-10, shape=(), dtype=float32)\n",
            "Epoch:  2999\n",
            "Generator Loss:  tf.Tensor(-8.484828e-12, shape=(), dtype=float32)\n",
            "Discriminator Loss:  tf.Tensor(-8.48476e-12, shape=(), dtype=float32)\n",
            "Epoch:  3499\n",
            "Generator Loss:  tf.Tensor(-3.32418e-11, shape=(), dtype=float32)\n",
            "Discriminator Loss:  tf.Tensor(-3.3241757e-11, shape=(), dtype=float32)\n",
            "Epoch:  3999\n",
            "Generator Loss:  tf.Tensor(-1.7387942e-11, shape=(), dtype=float32)\n",
            "Discriminator Loss:  tf.Tensor(-1.7387905e-11, shape=(), dtype=float32)\n",
            "Epoch:  4499\n",
            "Generator Loss:  tf.Tensor(-1.5642494e-11, shape=(), dtype=float32)\n",
            "Discriminator Loss:  tf.Tensor(-1.5642465e-11, shape=(), dtype=float32)\n",
            "Epoch:  4999\n",
            "Generator Loss:  tf.Tensor(-1.7926026e-10, shape=(), dtype=float32)\n",
            "Discriminator Loss:  tf.Tensor(-1.7926023e-10, shape=(), dtype=float32)\n",
            "Epoch:  5499\n",
            "Generator Loss:  tf.Tensor(-1.9909026e-11, shape=(), dtype=float32)\n",
            "Discriminator Loss:  tf.Tensor(-1.9909e-11, shape=(), dtype=float32)\n",
            "Epoch:  5999\n",
            "Generator Loss:  tf.Tensor(-5.0855826e-11, shape=(), dtype=float32)\n",
            "Discriminator Loss:  tf.Tensor(-5.085581e-11, shape=(), dtype=float32)\n",
            "Epoch:  6499\n",
            "Generator Loss:  tf.Tensor(-2.5102703e-11, shape=(), dtype=float32)\n",
            "Discriminator Loss:  tf.Tensor(-2.5102684e-11, shape=(), dtype=float32)\n",
            "Epoch:  6999\n",
            "Generator Loss:  tf.Tensor(-2.930899e-12, shape=(), dtype=float32)\n",
            "Discriminator Loss:  tf.Tensor(-2.9308801e-12, shape=(), dtype=float32)\n",
            "Epoch:  7499\n",
            "Generator Loss:  tf.Tensor(-5.570233e-12, shape=(), dtype=float32)\n",
            "Discriminator Loss:  tf.Tensor(-5.5702157e-12, shape=(), dtype=float32)\n",
            "Epoch:  7999\n",
            "Generator Loss:  tf.Tensor(-1.4636533e-11, shape=(), dtype=float32)\n",
            "Discriminator Loss:  tf.Tensor(-1.4636521e-11, shape=(), dtype=float32)\n",
            "Epoch:  8499\n",
            "Generator Loss:  tf.Tensor(-9.759438e-12, shape=(), dtype=float32)\n",
            "Discriminator Loss:  tf.Tensor(-9.759427e-12, shape=(), dtype=float32)\n",
            "Epoch:  8999\n",
            "Generator Loss:  tf.Tensor(-9.82073e-12, shape=(), dtype=float32)\n",
            "Discriminator Loss:  tf.Tensor(-9.820721e-12, shape=(), dtype=float32)\n",
            "Epoch:  9499\n",
            "Generator Loss:  tf.Tensor(-1.0717678e-11, shape=(), dtype=float32)\n",
            "Discriminator Loss:  tf.Tensor(-1.071767e-11, shape=(), dtype=float32)\n",
            "Epoch:  9999\n",
            "Generator Loss:  tf.Tensor(-8.480215e-12, shape=(), dtype=float32)\n",
            "Discriminator Loss:  tf.Tensor(-8.480204e-12, shape=(), dtype=float32)\n"
          ]
        }
      ],
      "source": [
        "train(2, EPOCHS)"
      ]
    },
    {
      "cell_type": "code",
      "execution_count": 17,
      "id": "294e7e81",
      "metadata": {
        "id": "294e7e81"
      },
      "outputs": [],
      "source": [
        "def show_images(noise):\n",
        "    generated_images = generator.predict(noise)\n",
        "    plt.figure(figsize=(10, 10))\n",
        "    for i, image in enumerate(generated_images):\n",
        "        plt.subplot(10, 10, i+1)\n",
        "        if 2 == 1:\n",
        "            plt.imshow(image.reshape((32, 32)), cmap='gray')\n",
        "        else:\n",
        "            plt.imshow(np.argmax(image.reshape(32, 32, 2), axis=2))\n",
        "        plt.axis('off')\n",
        "    \n",
        "    plt.tight_layout()\n",
        "    plt.show()"
      ]
    },
    {
      "cell_type": "code",
      "execution_count": 26,
      "id": "635fd337",
      "metadata": {
        "colab": {
          "base_uri": "https://localhost:8080/",
          "height": 746
        },
        "id": "635fd337",
        "outputId": "61b1b58b-ff28-4de6-9640-75ff4258f493"
      },
      "outputs": [
        {
          "output_type": "stream",
          "name": "stdout",
          "text": [
            "4/4 [==============================] - 0s 3ms/step\n"
          ]
        },
        {
          "output_type": "display_data",
          "data": {
            "text/plain": [
              "<Figure size 720x720 with 100 Axes>"
            ],
            "image/png": "[encoded data removed]"
          },
          "metadata": {
            "needs_background": "light"
          }
        }
      ],
      "source": [
        "noise = np.random.normal(0, 1, size=(100, noise_dim))\n",
        "show_images(noise)"
      ]
    },
    {
      "cell_type": "code",
      "execution_count": 19,
      "id": "8955eb51",
      "metadata": {
        "id": "8955eb51"
      },
      "outputs": [],
      "source": [
        "from google.colab import files"
      ]
    },
    {
      "cell_type": "code",
      "source": [
        "discriminator.save(\"./discriminator\")\n",
        "generator.save(\"./generator\")"
      ],
      "metadata": {
        "id": "9d1VqBLJ4DT_"
      },
      "id": "9d1VqBLJ4DT_",
      "execution_count": 20,
      "outputs": []
    },
    {
      "cell_type": "code",
      "source": [
        "files.download('./discriminator')\n",
        "files.download('./generator')"
      ],
      "metadata": {
        "colab": {
          "base_uri": "https://localhost:8080/",
          "height": 52
        },
        "id": "V1U8TBau3-aA",
        "outputId": "34d22c9f-090c-4d7b-824d-e506a06d165b"
      },
      "id": "V1U8TBau3-aA",
      "execution_count": 21,
      "outputs": [
        {
          "output_type": "display_data",
          "data": {
            "text/plain": [
              "<IPython.core.display.Javascript object>"
            ],
            "application/javascript": [
              "\n",
              "    async function download(id, filename, size) {\n",
              "      if (!google.colab.kernel.accessAllowed) {\n",
              "        return;\n",
              "      }\n",
              "      const div = document.createElement('div');\n",
              "      const label = document.createElement('label');\n",
              "      label.textContent = `Downloading \"${filename}\": `;\n",
              "      div.appendChild(label);\n",
              "      const progress = document.createElement('progress');\n",
              "      progress.max = size;\n",
              "      div.appendChild(progress);\n",
              "      document.body.appendChild(div);\n",
              "\n",
              "      const buffers = [];\n",
              "      let downloaded = 0;\n",
              "\n",
              "      const channel = await google.colab.kernel.comms.open(id);\n",
              "      // Send a message to notify the kernel that we're ready.\n",
              "      channel.send({})\n",
              "\n",
              "      for await (const message of channel.messages) {\n",
              "        // Send a message to notify the kernel that we're ready.\n",
              "        channel.send({})\n",
              "        if (message.buffers) {\n",
              "          for (const buffer of message.buffers) {\n",
              "            buffers.push(buffer);\n",
              "            downloaded += buffer.byteLength;\n",
              "            progress.value = downloaded;\n",
              "          }\n",
              "        }\n",
              "      }\n",
              "      const blob = new Blob(buffers, {type: 'application/binary'});\n",
              "      const a = document.createElement('a');\n",
              "      a.href = window.URL.createObjectURL(blob);\n",
              "      a.download = filename;\n",
              "      div.appendChild(a);\n",
              "      a.click();\n",
              "      div.remove();\n",
              "    }\n",
              "  "
            ]
          },
          "metadata": {}
        },
        {
          "output_type": "display_data",
          "data": {
            "text/plain": [
              "<IPython.core.display.Javascript object>"
            ],
            "application/javascript": [
              "download(\"download_fb5a8148-af48-4564-a704-e873a7ae4a91\", \"discriminator\", 4096)"
            ]
          },
          "metadata": {}
        },
        {
          "output_type": "display_data",
          "data": {
            "text/plain": [
              "<IPython.core.display.Javascript object>"
            ],
            "application/javascript": [
              "\n",
              "    async function download(id, filename, size) {\n",
              "      if (!google.colab.kernel.accessAllowed) {\n",
              "        return;\n",
              "      }\n",
              "      const div = document.createElement('div');\n",
              "      const label = document.createElement('label');\n",
              "      label.textContent = `Downloading \"${filename}\": `;\n",
              "      div.appendChild(label);\n",
              "      const progress = document.createElement('progress');\n",
              "      progress.max = size;\n",
              "      div.appendChild(progress);\n",
              "      document.body.appendChild(div);\n",
              "\n",
              "      const buffers = [];\n",
              "      let downloaded = 0;\n",
              "\n",
              "      const channel = await google.colab.kernel.comms.open(id);\n",
              "      // Send a message to notify the kernel that we're ready.\n",
              "      channel.send({})\n",
              "\n",
              "      for await (const message of channel.messages) {\n",
              "        // Send a message to notify the kernel that we're ready.\n",
              "        channel.send({})\n",
              "        if (message.buffers) {\n",
              "          for (const buffer of message.buffers) {\n",
              "            buffers.push(buffer);\n",
              "            downloaded += buffer.byteLength;\n",
              "            progress.value = downloaded;\n",
              "          }\n",
              "        }\n",
              "      }\n",
              "      const blob = new Blob(buffers, {type: 'application/binary'});\n",
              "      const a = document.createElement('a');\n",
              "      a.href = window.URL.createObjectURL(blob);\n",
              "      a.download = filename;\n",
              "      div.appendChild(a);\n",
              "      a.click();\n",
              "      div.remove();\n",
              "    }\n",
              "  "
            ]
          },
          "metadata": {}
        },
        {
          "output_type": "display_data",
          "data": {
            "text/plain": [
              "<IPython.core.display.Javascript object>"
            ],
            "application/javascript": [
              "download(\"download_885b5c38-2eb4-4ecb-8471-4fbee64e1fb0\", \"generator\", 4096)"
            ]
          },
          "metadata": {}
        }
      ]
    },
    {
      "cell_type": "code",
      "source": [
        "files.download('.')"
      ],
      "metadata": {
        "colab": {
          "base_uri": "https://localhost:8080/",
          "height": 34
        },
        "id": "ut6ZU_V06gLA",
        "outputId": "a0a475e2-f3de-4367-f565-81499842ef42"
      },
      "id": "ut6ZU_V06gLA",
      "execution_count": 25,
      "outputs": [
        {
          "output_type": "display_data",
          "data": {
            "text/plain": [
              "<IPython.core.display.Javascript object>"
            ],
            "application/javascript": [
              "\n",
              "    async function download(id, filename, size) {\n",
              "      if (!google.colab.kernel.accessAllowed) {\n",
              "        return;\n",
              "      }\n",
              "      const div = document.createElement('div');\n",
              "      const label = document.createElement('label');\n",
              "      label.textContent = `Downloading \"${filename}\": `;\n",
              "      div.appendChild(label);\n",
              "      const progress = document.createElement('progress');\n",
              "      progress.max = size;\n",
              "      div.appendChild(progress);\n",
              "      document.body.appendChild(div);\n",
              "\n",
              "      const buffers = [];\n",
              "      let downloaded = 0;\n",
              "\n",
              "      const channel = await google.colab.kernel.comms.open(id);\n",
              "      // Send a message to notify the kernel that we're ready.\n",
              "      channel.send({})\n",
              "\n",
              "      for await (const message of channel.messages) {\n",
              "        // Send a message to notify the kernel that we're ready.\n",
              "        channel.send({})\n",
              "        if (message.buffers) {\n",
              "          for (const buffer of message.buffers) {\n",
              "            buffers.push(buffer);\n",
              "            downloaded += buffer.byteLength;\n",
              "            progress.value = downloaded;\n",
              "          }\n",
              "        }\n",
              "      }\n",
              "      const blob = new Blob(buffers, {type: 'application/binary'});\n",
              "      const a = document.createElement('a');\n",
              "      a.href = window.URL.createObjectURL(blob);\n",
              "      a.download = filename;\n",
              "      div.appendChild(a);\n",
              "      a.click();\n",
              "      div.remove();\n",
              "    }\n",
              "  "
            ]
          },
          "metadata": {}
        },
        {
          "output_type": "display_data",
          "data": {
            "text/plain": [
              "<IPython.core.display.Javascript object>"
            ],
            "application/javascript": [
              "download(\"download_9d117ff3-5c99-4272-997f-d8aa19248da2\", \".\", 4096)"
            ]
          },
          "metadata": {}
        }
      ]
    },
    {
      "cell_type": "code",
      "source": [
        "files.download('all.zip')"
      ],
      "metadata": {
        "colab": {
          "base_uri": "https://localhost:8080/",
          "height": 17
        },
        "id": "gOTL7Bd6QpAA",
        "outputId": "7c041d00-ccb1-4f5a-9863-7e51d59be225"
      },
      "id": "gOTL7Bd6QpAA",
      "execution_count": 30,
      "outputs": [
        {
          "output_type": "display_data",
          "data": {
            "text/plain": [
              "<IPython.core.display.Javascript object>"
            ],
            "application/javascript": [
              "\n",
              "    async function download(id, filename, size) {\n",
              "      if (!google.colab.kernel.accessAllowed) {\n",
              "        return;\n",
              "      }\n",
              "      const div = document.createElement('div');\n",
              "      const label = document.createElement('label');\n",
              "      label.textContent = `Downloading \"${filename}\": `;\n",
              "      div.appendChild(label);\n",
              "      const progress = document.createElement('progress');\n",
              "      progress.max = size;\n",
              "      div.appendChild(progress);\n",
              "      document.body.appendChild(div);\n",
              "\n",
              "      const buffers = [];\n",
              "      let downloaded = 0;\n",
              "\n",
              "      const channel = await google.colab.kernel.comms.open(id);\n",
              "      // Send a message to notify the kernel that we're ready.\n",
              "      channel.send({})\n",
              "\n",
              "      for await (const message of channel.messages) {\n",
              "        // Send a message to notify the kernel that we're ready.\n",
              "        channel.send({})\n",
              "        if (message.buffers) {\n",
              "          for (const buffer of message.buffers) {\n",
              "            buffers.push(buffer);\n",
              "            downloaded += buffer.byteLength;\n",
              "            progress.value = downloaded;\n",
              "          }\n",
              "        }\n",
              "      }\n",
              "      const blob = new Blob(buffers, {type: 'application/binary'});\n",
              "      const a = document.createElement('a');\n",
              "      a.href = window.URL.createObjectURL(blob);\n",
              "      a.download = filename;\n",
              "      div.appendChild(a);\n",
              "      a.click();\n",
              "      div.remove();\n",
              "    }\n",
              "  "
            ]
          },
          "metadata": {}
        },
        {
          "output_type": "display_data",
          "data": {
            "text/plain": [
              "<IPython.core.display.Javascript object>"
            ],
            "application/javascript": [
              "download(\"download_ef697be7-6b73-4abe-975f-f241b2f63a1c\", \"\\\"all.zip\\\"\", 26690537)"
            ]
          },
          "metadata": {}
        }
      ]
    },
    {
      "cell_type": "code",
      "source": [
        "files.view(\".\")"
      ],
      "metadata": {
        "colab": {
          "base_uri": "https://localhost:8080/",
          "height": 17
        },
        "id": "uXDpqyIdMDwa",
        "outputId": "8e536122-302a-4636-8849-9001d4a091ed"
      },
      "id": "uXDpqyIdMDwa",
      "execution_count": 28,
      "outputs": [
        {
          "output_type": "display_data",
          "data": {
            "text/plain": [
              "<IPython.core.display.Javascript object>"
            ],
            "application/javascript": [
              "\n",
              "      ((filepath) => {{\n",
              "        if (!google.colab.kernel.accessAllowed) {{\n",
              "          return;\n",
              "        }}\n",
              "        google.colab.files.view(filepath);\n",
              "      }})(\"/content\")"
            ]
          },
          "metadata": {}
        }
      ]
    },
    {
      "cell_type": "code",
      "source": [
        "!zip -r './all.zip' '.'"
      ],
      "metadata": {
        "colab": {
          "base_uri": "https://localhost:8080/"
        },
        "id": "oBgD_0NqQWTg",
        "outputId": "9bd4a6c3-6855-4ebb-ea5a-0416556e421d"
      },
      "id": "oBgD_0NqQWTg",
      "execution_count": 29,
      "outputs": [
        {
          "output_type": "stream",
          "name": "stdout",
          "text": [
            "  adding: .config/ (stored 0%)\n",
            "  adding: .config/active_config (stored 0%)\n",
            "  adding: .config/.last_survey_prompt.yaml (stored 0%)\n",
            "  adding: .config/logs/ (stored 0%)\n",
            "  adding: .config/logs/2022.10.20/ (stored 0%)\n",
            "  adding: .config/logs/2022.10.20/13.33.05.255574.log (deflated 86%)\n",
            "  adding: .config/logs/2022.10.20/13.33.14.297739.log (deflated 54%)\n",
            "  adding: .config/logs/2022.10.20/13.32.42.514659.log (deflated 54%)\n",
            "  adding: .config/logs/2022.10.20/13.33.37.688592.log (deflated 55%)\n",
            "  adding: .config/logs/2022.10.20/13.32.16.915436.log (deflated 91%)\n",
            "  adding: .config/logs/2022.10.20/13.33.38.512411.log (deflated 54%)\n",
            "  adding: .config/.last_opt_in_prompt.yaml (stored 0%)\n",
            "  adding: .config/config_sentinel (stored 0%)\n",
            "  adding: .config/.last_update_check.json (deflated 22%)\n",
            "  adding: .config/configurations/ (stored 0%)\n",
            "  adding: .config/configurations/config_default (deflated 15%)\n",
            "  adding: .config/gce (stored 0%)\n",
            "  adding: discriminator/ (stored 0%)\n",
            "  adding: discriminator/saved_model.pb (deflated 89%)\n",
            "  adding: discriminator/variables/ (stored 0%)\n",
            "  adding: discriminator/variables/variables.data-00000-of-00001 (deflated 16%)\n",
            "  adding: discriminator/variables/variables.index (deflated 52%)\n",
            "  adding: discriminator/keras_metadata.pb (deflated 90%)\n",
            "  adding: discriminator/assets/ (stored 0%)\n",
            "  adding: generator/ (stored 0%)\n",
            "  adding: generator/saved_model.pb (deflated 90%)\n",
            "  adding: generator/variables/ (stored 0%)\n",
            "  adding: generator/variables/variables.data-00000-of-00001 (deflated 8%)\n",
            "  adding: generator/variables/variables.index (deflated 52%)\n",
            "  adding: generator/keras_metadata.pb (deflated 89%)\n",
            "  adding: generator/assets/ (stored 0%)\n",
            "  adding: sample_data/ (stored 0%)\n",
            "  adding: sample_data/README.md (deflated 42%)\n",
            "  adding: sample_data/anscombe.json (deflated 83%)\n",
            "  adding: sample_data/mnist_train_small.csv (deflated 88%)\n",
            "  adding: sample_data/california_housing_test.csv (deflated 76%)\n",
            "  adding: sample_data/california_housing_train.csv (deflated 79%)\n",
            "  adding: sample_data/mnist_test.csv (deflated 88%)\n"
          ]
        }
      ]
    }
  ],
  "metadata": {
    "kernelspec": {
      "display_name": "Python 3 (ipykernel)",
      "language": "python",
      "name": "python3"
    },
    "language_info": {
      "codemirror_mode": {
        "name": "ipython",
        "version": 3
      },
      "file_extension": ".py",
      "mimetype": "text/x-python",
      "name": "python",
      "nbconvert_exporter": "python",
      "pygments_lexer": "ipython3",
      "version": "3.8.5"
    },
    "vscode": {
      "interpreter": {
        "hash": "369f2c481f4da34e4445cda3fffd2e751bd1c4d706f27375911949ba6bb62e1c"
      }
    },
    "colab": {
      "provenance": []
    },
    "accelerator": "GPU"
  },
  "nbformat": 4,
  "nbformat_minor": 5
}